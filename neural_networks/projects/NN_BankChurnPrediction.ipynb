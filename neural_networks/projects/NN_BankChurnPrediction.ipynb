{
  "nbformat": 4,
  "nbformat_minor": 0,
  "metadata": {
    "colab": {
      "name": "NN_BankChurnPrediction.ipynb",
      "provenance": [],
      "authorship_tag": "ABX9TyN7t1qgP/7GzH7wSsGAgW22",
      "include_colab_link": true
    },
    "kernelspec": {
      "name": "python3",
      "display_name": "Python 3"
    }
  },
  "cells": [
    {
      "cell_type": "markdown",
      "metadata": {
        "id": "view-in-github",
        "colab_type": "text"
      },
      "source": [
        "<a href=\"https://colab.research.google.com/github/vasantbala/vb_ai_course/blob/main/neural_networks/projects/NN_BankChurnPrediction.ipynb\" target=\"_parent\"><img src=\"https://colab.research.google.com/assets/colab-badge.svg\" alt=\"Open In Colab\"/></a>"
      ]
    },
    {
      "cell_type": "markdown",
      "metadata": {
        "id": "M27DubHWLvhX"
      },
      "source": [
        "# Bank Churn Prediction\r\n",
        "\r\n",
        "## Objective\r\n",
        "Given a Bank customer, build a neural network-based classifier that can determine whether they will leave or not in the next 6 months."
      ]
    },
    {
      "cell_type": "code",
      "metadata": {
        "id": "TYGR52cM52WE"
      },
      "source": [
        "import pandas as pd\r\n",
        "import numpy as np\r\n",
        "from sklearn.preprocessing import LabelEncoder\r\n",
        "from sklearn.preprocessing import MinMaxScaler\r\n",
        "import seaborn as sns\r\n",
        "import matplotlib.pyplot as plt\r\n",
        "%matplotlib inline"
      ],
      "execution_count": 49,
      "outputs": []
    },
    {
      "cell_type": "markdown",
      "metadata": {
        "id": "iC6-Bzi7M0MR"
      },
      "source": [
        "### 1. Read the dataset"
      ]
    },
    {
      "cell_type": "code",
      "metadata": {
        "id": "0T72cjnMMd-g"
      },
      "source": [
        "data = pd.read_csv('https://github.com/vasantbala/vb_ai_course/raw/main/neural_networks/projects/bank.csv')"
      ],
      "execution_count": 50,
      "outputs": []
    },
    {
      "cell_type": "code",
      "metadata": {
        "id": "qD-PHWF9MmWl",
        "outputId": "ad3f33e5-dce4-47e7-82b0-763e62517799",
        "colab": {
          "base_uri": "https://localhost:8080/",
          "height": 317
        }
      },
      "source": [
        "data.describe()"
      ],
      "execution_count": 51,
      "outputs": [
        {
          "output_type": "execute_result",
          "data": {
            "text/html": [
              "<div>\n",
              "<style scoped>\n",
              "    .dataframe tbody tr th:only-of-type {\n",
              "        vertical-align: middle;\n",
              "    }\n",
              "\n",
              "    .dataframe tbody tr th {\n",
              "        vertical-align: top;\n",
              "    }\n",
              "\n",
              "    .dataframe thead th {\n",
              "        text-align: right;\n",
              "    }\n",
              "</style>\n",
              "<table border=\"1\" class=\"dataframe\">\n",
              "  <thead>\n",
              "    <tr style=\"text-align: right;\">\n",
              "      <th></th>\n",
              "      <th>RowNumber</th>\n",
              "      <th>CustomerId</th>\n",
              "      <th>CreditScore</th>\n",
              "      <th>Age</th>\n",
              "      <th>Tenure</th>\n",
              "      <th>Balance</th>\n",
              "      <th>NumOfProducts</th>\n",
              "      <th>HasCrCard</th>\n",
              "      <th>IsActiveMember</th>\n",
              "      <th>EstimatedSalary</th>\n",
              "      <th>Exited</th>\n",
              "    </tr>\n",
              "  </thead>\n",
              "  <tbody>\n",
              "    <tr>\n",
              "      <th>count</th>\n",
              "      <td>10000.00000</td>\n",
              "      <td>1.000000e+04</td>\n",
              "      <td>10000.000000</td>\n",
              "      <td>10000.000000</td>\n",
              "      <td>10000.000000</td>\n",
              "      <td>10000.000000</td>\n",
              "      <td>10000.000000</td>\n",
              "      <td>10000.00000</td>\n",
              "      <td>10000.000000</td>\n",
              "      <td>10000.000000</td>\n",
              "      <td>10000.000000</td>\n",
              "    </tr>\n",
              "    <tr>\n",
              "      <th>mean</th>\n",
              "      <td>5000.50000</td>\n",
              "      <td>1.569094e+07</td>\n",
              "      <td>650.528800</td>\n",
              "      <td>38.921800</td>\n",
              "      <td>5.012800</td>\n",
              "      <td>76485.889288</td>\n",
              "      <td>1.530200</td>\n",
              "      <td>0.70550</td>\n",
              "      <td>0.515100</td>\n",
              "      <td>100090.239881</td>\n",
              "      <td>0.203700</td>\n",
              "    </tr>\n",
              "    <tr>\n",
              "      <th>std</th>\n",
              "      <td>2886.89568</td>\n",
              "      <td>7.193619e+04</td>\n",
              "      <td>96.653299</td>\n",
              "      <td>10.487806</td>\n",
              "      <td>2.892174</td>\n",
              "      <td>62397.405202</td>\n",
              "      <td>0.581654</td>\n",
              "      <td>0.45584</td>\n",
              "      <td>0.499797</td>\n",
              "      <td>57510.492818</td>\n",
              "      <td>0.402769</td>\n",
              "    </tr>\n",
              "    <tr>\n",
              "      <th>min</th>\n",
              "      <td>1.00000</td>\n",
              "      <td>1.556570e+07</td>\n",
              "      <td>350.000000</td>\n",
              "      <td>18.000000</td>\n",
              "      <td>0.000000</td>\n",
              "      <td>0.000000</td>\n",
              "      <td>1.000000</td>\n",
              "      <td>0.00000</td>\n",
              "      <td>0.000000</td>\n",
              "      <td>11.580000</td>\n",
              "      <td>0.000000</td>\n",
              "    </tr>\n",
              "    <tr>\n",
              "      <th>25%</th>\n",
              "      <td>2500.75000</td>\n",
              "      <td>1.562853e+07</td>\n",
              "      <td>584.000000</td>\n",
              "      <td>32.000000</td>\n",
              "      <td>3.000000</td>\n",
              "      <td>0.000000</td>\n",
              "      <td>1.000000</td>\n",
              "      <td>0.00000</td>\n",
              "      <td>0.000000</td>\n",
              "      <td>51002.110000</td>\n",
              "      <td>0.000000</td>\n",
              "    </tr>\n",
              "    <tr>\n",
              "      <th>50%</th>\n",
              "      <td>5000.50000</td>\n",
              "      <td>1.569074e+07</td>\n",
              "      <td>652.000000</td>\n",
              "      <td>37.000000</td>\n",
              "      <td>5.000000</td>\n",
              "      <td>97198.540000</td>\n",
              "      <td>1.000000</td>\n",
              "      <td>1.00000</td>\n",
              "      <td>1.000000</td>\n",
              "      <td>100193.915000</td>\n",
              "      <td>0.000000</td>\n",
              "    </tr>\n",
              "    <tr>\n",
              "      <th>75%</th>\n",
              "      <td>7500.25000</td>\n",
              "      <td>1.575323e+07</td>\n",
              "      <td>718.000000</td>\n",
              "      <td>44.000000</td>\n",
              "      <td>7.000000</td>\n",
              "      <td>127644.240000</td>\n",
              "      <td>2.000000</td>\n",
              "      <td>1.00000</td>\n",
              "      <td>1.000000</td>\n",
              "      <td>149388.247500</td>\n",
              "      <td>0.000000</td>\n",
              "    </tr>\n",
              "    <tr>\n",
              "      <th>max</th>\n",
              "      <td>10000.00000</td>\n",
              "      <td>1.581569e+07</td>\n",
              "      <td>850.000000</td>\n",
              "      <td>92.000000</td>\n",
              "      <td>10.000000</td>\n",
              "      <td>250898.090000</td>\n",
              "      <td>4.000000</td>\n",
              "      <td>1.00000</td>\n",
              "      <td>1.000000</td>\n",
              "      <td>199992.480000</td>\n",
              "      <td>1.000000</td>\n",
              "    </tr>\n",
              "  </tbody>\n",
              "</table>\n",
              "</div>"
            ],
            "text/plain": [
              "         RowNumber    CustomerId  ...  EstimatedSalary        Exited\n",
              "count  10000.00000  1.000000e+04  ...     10000.000000  10000.000000\n",
              "mean    5000.50000  1.569094e+07  ...    100090.239881      0.203700\n",
              "std     2886.89568  7.193619e+04  ...     57510.492818      0.402769\n",
              "min        1.00000  1.556570e+07  ...        11.580000      0.000000\n",
              "25%     2500.75000  1.562853e+07  ...     51002.110000      0.000000\n",
              "50%     5000.50000  1.569074e+07  ...    100193.915000      0.000000\n",
              "75%     7500.25000  1.575323e+07  ...    149388.247500      0.000000\n",
              "max    10000.00000  1.581569e+07  ...    199992.480000      1.000000\n",
              "\n",
              "[8 rows x 11 columns]"
            ]
          },
          "metadata": {
            "tags": []
          },
          "execution_count": 51
        }
      ]
    },
    {
      "cell_type": "code",
      "metadata": {
        "id": "BFDxmgDJNDou",
        "outputId": "42f81278-e05f-4684-de68-2191c5b8eb4b",
        "colab": {
          "base_uri": "https://localhost:8080/"
        }
      },
      "source": [
        "data.info()"
      ],
      "execution_count": 52,
      "outputs": [
        {
          "output_type": "stream",
          "text": [
            "<class 'pandas.core.frame.DataFrame'>\n",
            "RangeIndex: 10000 entries, 0 to 9999\n",
            "Data columns (total 14 columns):\n",
            " #   Column           Non-Null Count  Dtype  \n",
            "---  ------           --------------  -----  \n",
            " 0   RowNumber        10000 non-null  int64  \n",
            " 1   CustomerId       10000 non-null  int64  \n",
            " 2   Surname          10000 non-null  object \n",
            " 3   CreditScore      10000 non-null  int64  \n",
            " 4   Geography        10000 non-null  object \n",
            " 5   Gender           10000 non-null  object \n",
            " 6   Age              10000 non-null  int64  \n",
            " 7   Tenure           10000 non-null  int64  \n",
            " 8   Balance          10000 non-null  float64\n",
            " 9   NumOfProducts    10000 non-null  int64  \n",
            " 10  HasCrCard        10000 non-null  int64  \n",
            " 11  IsActiveMember   10000 non-null  int64  \n",
            " 12  EstimatedSalary  10000 non-null  float64\n",
            " 13  Exited           10000 non-null  int64  \n",
            "dtypes: float64(2), int64(9), object(3)\n",
            "memory usage: 1.1+ MB\n"
          ],
          "name": "stdout"
        }
      ]
    },
    {
      "cell_type": "code",
      "metadata": {
        "id": "yEjTP54UNG4L",
        "outputId": "419340ae-af20-4cad-d584-acda7d5b3223",
        "colab": {
          "base_uri": "https://localhost:8080/"
        }
      },
      "source": [
        "data.isna().sum()"
      ],
      "execution_count": 53,
      "outputs": [
        {
          "output_type": "execute_result",
          "data": {
            "text/plain": [
              "RowNumber          0\n",
              "CustomerId         0\n",
              "Surname            0\n",
              "CreditScore        0\n",
              "Geography          0\n",
              "Gender             0\n",
              "Age                0\n",
              "Tenure             0\n",
              "Balance            0\n",
              "NumOfProducts      0\n",
              "HasCrCard          0\n",
              "IsActiveMember     0\n",
              "EstimatedSalary    0\n",
              "Exited             0\n",
              "dtype: int64"
            ]
          },
          "metadata": {
            "tags": []
          },
          "execution_count": 53
        }
      ]
    },
    {
      "cell_type": "code",
      "metadata": {
        "id": "eLP5aFQrNOHV",
        "outputId": "ec1509ef-e81a-4c44-df6b-3c80688ca7ca",
        "colab": {
          "base_uri": "https://localhost:8080/"
        }
      },
      "source": [
        "data.isnull().sum()"
      ],
      "execution_count": 54,
      "outputs": [
        {
          "output_type": "execute_result",
          "data": {
            "text/plain": [
              "RowNumber          0\n",
              "CustomerId         0\n",
              "Surname            0\n",
              "CreditScore        0\n",
              "Geography          0\n",
              "Gender             0\n",
              "Age                0\n",
              "Tenure             0\n",
              "Balance            0\n",
              "NumOfProducts      0\n",
              "HasCrCard          0\n",
              "IsActiveMember     0\n",
              "EstimatedSalary    0\n",
              "Exited             0\n",
              "dtype: int64"
            ]
          },
          "metadata": {
            "tags": []
          },
          "execution_count": 54
        }
      ]
    },
    {
      "cell_type": "code",
      "metadata": {
        "id": "NfiDFpsSNYHX",
        "outputId": "c6d7c736-3135-4df0-9e54-bb25f82f0f63",
        "colab": {
          "base_uri": "https://localhost:8080/"
        }
      },
      "source": [
        "data.nunique()"
      ],
      "execution_count": 55,
      "outputs": [
        {
          "output_type": "execute_result",
          "data": {
            "text/plain": [
              "RowNumber          10000\n",
              "CustomerId         10000\n",
              "Surname             2932\n",
              "CreditScore          460\n",
              "Geography              3\n",
              "Gender                 2\n",
              "Age                   70\n",
              "Tenure                11\n",
              "Balance             6382\n",
              "NumOfProducts          4\n",
              "HasCrCard              2\n",
              "IsActiveMember         2\n",
              "EstimatedSalary     9999\n",
              "Exited                 2\n",
              "dtype: int64"
            ]
          },
          "metadata": {
            "tags": []
          },
          "execution_count": 55
        }
      ]
    },
    {
      "cell_type": "code",
      "metadata": {
        "id": "-hHbGknvNmp9",
        "outputId": "086d8c26-5d19-42d4-b189-83a6cab28514",
        "colab": {
          "base_uri": "https://localhost:8080/",
          "height": 224
        }
      },
      "source": [
        "data.head()"
      ],
      "execution_count": 56,
      "outputs": [
        {
          "output_type": "execute_result",
          "data": {
            "text/html": [
              "<div>\n",
              "<style scoped>\n",
              "    .dataframe tbody tr th:only-of-type {\n",
              "        vertical-align: middle;\n",
              "    }\n",
              "\n",
              "    .dataframe tbody tr th {\n",
              "        vertical-align: top;\n",
              "    }\n",
              "\n",
              "    .dataframe thead th {\n",
              "        text-align: right;\n",
              "    }\n",
              "</style>\n",
              "<table border=\"1\" class=\"dataframe\">\n",
              "  <thead>\n",
              "    <tr style=\"text-align: right;\">\n",
              "      <th></th>\n",
              "      <th>RowNumber</th>\n",
              "      <th>CustomerId</th>\n",
              "      <th>Surname</th>\n",
              "      <th>CreditScore</th>\n",
              "      <th>Geography</th>\n",
              "      <th>Gender</th>\n",
              "      <th>Age</th>\n",
              "      <th>Tenure</th>\n",
              "      <th>Balance</th>\n",
              "      <th>NumOfProducts</th>\n",
              "      <th>HasCrCard</th>\n",
              "      <th>IsActiveMember</th>\n",
              "      <th>EstimatedSalary</th>\n",
              "      <th>Exited</th>\n",
              "    </tr>\n",
              "  </thead>\n",
              "  <tbody>\n",
              "    <tr>\n",
              "      <th>0</th>\n",
              "      <td>1</td>\n",
              "      <td>15634602</td>\n",
              "      <td>Hargrave</td>\n",
              "      <td>619</td>\n",
              "      <td>France</td>\n",
              "      <td>Female</td>\n",
              "      <td>42</td>\n",
              "      <td>2</td>\n",
              "      <td>0.00</td>\n",
              "      <td>1</td>\n",
              "      <td>1</td>\n",
              "      <td>1</td>\n",
              "      <td>101348.88</td>\n",
              "      <td>1</td>\n",
              "    </tr>\n",
              "    <tr>\n",
              "      <th>1</th>\n",
              "      <td>2</td>\n",
              "      <td>15647311</td>\n",
              "      <td>Hill</td>\n",
              "      <td>608</td>\n",
              "      <td>Spain</td>\n",
              "      <td>Female</td>\n",
              "      <td>41</td>\n",
              "      <td>1</td>\n",
              "      <td>83807.86</td>\n",
              "      <td>1</td>\n",
              "      <td>0</td>\n",
              "      <td>1</td>\n",
              "      <td>112542.58</td>\n",
              "      <td>0</td>\n",
              "    </tr>\n",
              "    <tr>\n",
              "      <th>2</th>\n",
              "      <td>3</td>\n",
              "      <td>15619304</td>\n",
              "      <td>Onio</td>\n",
              "      <td>502</td>\n",
              "      <td>France</td>\n",
              "      <td>Female</td>\n",
              "      <td>42</td>\n",
              "      <td>8</td>\n",
              "      <td>159660.80</td>\n",
              "      <td>3</td>\n",
              "      <td>1</td>\n",
              "      <td>0</td>\n",
              "      <td>113931.57</td>\n",
              "      <td>1</td>\n",
              "    </tr>\n",
              "    <tr>\n",
              "      <th>3</th>\n",
              "      <td>4</td>\n",
              "      <td>15701354</td>\n",
              "      <td>Boni</td>\n",
              "      <td>699</td>\n",
              "      <td>France</td>\n",
              "      <td>Female</td>\n",
              "      <td>39</td>\n",
              "      <td>1</td>\n",
              "      <td>0.00</td>\n",
              "      <td>2</td>\n",
              "      <td>0</td>\n",
              "      <td>0</td>\n",
              "      <td>93826.63</td>\n",
              "      <td>0</td>\n",
              "    </tr>\n",
              "    <tr>\n",
              "      <th>4</th>\n",
              "      <td>5</td>\n",
              "      <td>15737888</td>\n",
              "      <td>Mitchell</td>\n",
              "      <td>850</td>\n",
              "      <td>Spain</td>\n",
              "      <td>Female</td>\n",
              "      <td>43</td>\n",
              "      <td>2</td>\n",
              "      <td>125510.82</td>\n",
              "      <td>1</td>\n",
              "      <td>1</td>\n",
              "      <td>1</td>\n",
              "      <td>79084.10</td>\n",
              "      <td>0</td>\n",
              "    </tr>\n",
              "  </tbody>\n",
              "</table>\n",
              "</div>"
            ],
            "text/plain": [
              "   RowNumber  CustomerId   Surname  ...  IsActiveMember EstimatedSalary Exited\n",
              "0          1    15634602  Hargrave  ...               1       101348.88      1\n",
              "1          2    15647311      Hill  ...               1       112542.58      0\n",
              "2          3    15619304      Onio  ...               0       113931.57      1\n",
              "3          4    15701354      Boni  ...               0        93826.63      0\n",
              "4          5    15737888  Mitchell  ...               1        79084.10      0\n",
              "\n",
              "[5 rows x 14 columns]"
            ]
          },
          "metadata": {
            "tags": []
          },
          "execution_count": 56
        }
      ]
    },
    {
      "cell_type": "markdown",
      "metadata": {
        "id": "O5EpRs2YNqbU"
      },
      "source": [
        "#### Observation\r\n",
        "- RowNumber, CustomerId, Surnames columns can be dropped because these columns would help understand any pattern\r\n",
        "- Geography has only 3 unique values. We could one hot encode it to convert it to a numerical column\r\n",
        "- Gender has only 2 unique values. We could one hot encode it to convert it to a numerical column\r\n",
        "- Other columns are either integer or float types with no Nan / null values and negative values. This gives a good impression on the data quality"
      ]
    },
    {
      "cell_type": "markdown",
      "metadata": {
        "id": "hdP-D3OMM6HR"
      },
      "source": [
        "### 2. Drop the columns which are unique for all users like IDs"
      ]
    },
    {
      "cell_type": "code",
      "metadata": {
        "id": "kGJ5iLmjPBzH",
        "outputId": "76fa10d0-56df-407d-b1c4-f9062cd64ebe",
        "colab": {
          "base_uri": "https://localhost:8080/",
          "height": 204
        }
      },
      "source": [
        "# Preserve original data for further analysis\r\n",
        "data_lean = data.copy(True)\r\n",
        "# Removing RowNumber, CustomerId, Surnames columns because it won't help us understand any patterns\r\n",
        "data_lean.drop('RowNumber', 1, inplace=True)\r\n",
        "data_lean.drop('CustomerId', 1, inplace=True)   \r\n",
        "data_lean.drop('Surname', 1, inplace=True)\r\n",
        "data_lean.head()"
      ],
      "execution_count": 57,
      "outputs": [
        {
          "output_type": "execute_result",
          "data": {
            "text/html": [
              "<div>\n",
              "<style scoped>\n",
              "    .dataframe tbody tr th:only-of-type {\n",
              "        vertical-align: middle;\n",
              "    }\n",
              "\n",
              "    .dataframe tbody tr th {\n",
              "        vertical-align: top;\n",
              "    }\n",
              "\n",
              "    .dataframe thead th {\n",
              "        text-align: right;\n",
              "    }\n",
              "</style>\n",
              "<table border=\"1\" class=\"dataframe\">\n",
              "  <thead>\n",
              "    <tr style=\"text-align: right;\">\n",
              "      <th></th>\n",
              "      <th>CreditScore</th>\n",
              "      <th>Geography</th>\n",
              "      <th>Gender</th>\n",
              "      <th>Age</th>\n",
              "      <th>Tenure</th>\n",
              "      <th>Balance</th>\n",
              "      <th>NumOfProducts</th>\n",
              "      <th>HasCrCard</th>\n",
              "      <th>IsActiveMember</th>\n",
              "      <th>EstimatedSalary</th>\n",
              "      <th>Exited</th>\n",
              "    </tr>\n",
              "  </thead>\n",
              "  <tbody>\n",
              "    <tr>\n",
              "      <th>0</th>\n",
              "      <td>619</td>\n",
              "      <td>France</td>\n",
              "      <td>Female</td>\n",
              "      <td>42</td>\n",
              "      <td>2</td>\n",
              "      <td>0.00</td>\n",
              "      <td>1</td>\n",
              "      <td>1</td>\n",
              "      <td>1</td>\n",
              "      <td>101348.88</td>\n",
              "      <td>1</td>\n",
              "    </tr>\n",
              "    <tr>\n",
              "      <th>1</th>\n",
              "      <td>608</td>\n",
              "      <td>Spain</td>\n",
              "      <td>Female</td>\n",
              "      <td>41</td>\n",
              "      <td>1</td>\n",
              "      <td>83807.86</td>\n",
              "      <td>1</td>\n",
              "      <td>0</td>\n",
              "      <td>1</td>\n",
              "      <td>112542.58</td>\n",
              "      <td>0</td>\n",
              "    </tr>\n",
              "    <tr>\n",
              "      <th>2</th>\n",
              "      <td>502</td>\n",
              "      <td>France</td>\n",
              "      <td>Female</td>\n",
              "      <td>42</td>\n",
              "      <td>8</td>\n",
              "      <td>159660.80</td>\n",
              "      <td>3</td>\n",
              "      <td>1</td>\n",
              "      <td>0</td>\n",
              "      <td>113931.57</td>\n",
              "      <td>1</td>\n",
              "    </tr>\n",
              "    <tr>\n",
              "      <th>3</th>\n",
              "      <td>699</td>\n",
              "      <td>France</td>\n",
              "      <td>Female</td>\n",
              "      <td>39</td>\n",
              "      <td>1</td>\n",
              "      <td>0.00</td>\n",
              "      <td>2</td>\n",
              "      <td>0</td>\n",
              "      <td>0</td>\n",
              "      <td>93826.63</td>\n",
              "      <td>0</td>\n",
              "    </tr>\n",
              "    <tr>\n",
              "      <th>4</th>\n",
              "      <td>850</td>\n",
              "      <td>Spain</td>\n",
              "      <td>Female</td>\n",
              "      <td>43</td>\n",
              "      <td>2</td>\n",
              "      <td>125510.82</td>\n",
              "      <td>1</td>\n",
              "      <td>1</td>\n",
              "      <td>1</td>\n",
              "      <td>79084.10</td>\n",
              "      <td>0</td>\n",
              "    </tr>\n",
              "  </tbody>\n",
              "</table>\n",
              "</div>"
            ],
            "text/plain": [
              "   CreditScore Geography  Gender  ...  IsActiveMember  EstimatedSalary  Exited\n",
              "0          619    France  Female  ...               1        101348.88       1\n",
              "1          608     Spain  Female  ...               1        112542.58       0\n",
              "2          502    France  Female  ...               0        113931.57       1\n",
              "3          699    France  Female  ...               0         93826.63       0\n",
              "4          850     Spain  Female  ...               1         79084.10       0\n",
              "\n",
              "[5 rows x 11 columns]"
            ]
          },
          "metadata": {
            "tags": []
          },
          "execution_count": 57
        }
      ]
    },
    {
      "cell_type": "markdown",
      "metadata": {
        "id": "Q64U29_-PiFi"
      },
      "source": [
        "### 3. Perform bivariate analysis and give your insights from the same"
      ]
    },
    {
      "cell_type": "code",
      "metadata": {
        "id": "nNndQsSuPaHJ",
        "outputId": "46ffa081-a270-4a8e-b5f0-a785c106012e",
        "colab": {
          "base_uri": "https://localhost:8080/",
          "height": 667
        }
      },
      "source": [
        "plt.figure(figsize=(10,10))\r\n",
        "g=sns.heatmap(data_lean.corr(),annot=True,cmap=\"YlGnBu\")"
      ],
      "execution_count": 58,
      "outputs": [
        {
          "output_type": "display_data",
          "data": {
            "image/png": "[encoded data removed]",
            "text/plain": [
              "<Figure size 720x720 with 2 Axes>"
            ]
          },
          "metadata": {
            "tags": [],
            "needs_background": "light"
          }
        }
      ]
    },
    {
      "cell_type": "markdown",
      "metadata": {
        "id": "F4arnLtSQSO_"
      },
      "source": [
        "#### Observation\r\n",
        "- Heat map on the correlation data shows that there NO strong positive or negative correlation with among the features"
      ]
    },
    {
      "cell_type": "code",
      "metadata": {
        "id": "-kd_UIdaQKBc",
        "outputId": "607d196e-58b2-47b9-afe6-c1f0690616bf",
        "colab": {
          "base_uri": "https://localhost:8080/",
          "height": 386
        }
      },
      "source": [
        "sns.displot(data_lean, x=\"Tenure\", hue=\"Exited\")"
      ],
      "execution_count": 59,
      "outputs": [
        {
          "output_type": "execute_result",
          "data": {
            "text/plain": [
              "<seaborn.axisgrid.FacetGrid at 0x7f0f3687d978>"
            ]
          },
          "metadata": {
            "tags": []
          },
          "execution_count": 59
        },
        {
          "output_type": "display_data",
          "data": {
            "image/png": "[encoded data removed]",
            "text/plain": [
              "<Figure size 402.375x360 with 1 Axes>"
            ]
          },
          "metadata": {
            "tags": [],
            "needs_background": "light"
          }
        }
      ]
    },
    {
      "cell_type": "code",
      "metadata": {
        "id": "mp4_E4F2ReJO",
        "outputId": "b0ee2a38-3eb7-417b-db02-f29912edb32d",
        "colab": {
          "base_uri": "https://localhost:8080/",
          "height": 386
        }
      },
      "source": [
        "sns.displot(data_lean, x=\"Gender\", hue=\"Exited\")"
      ],
      "execution_count": 60,
      "outputs": [
        {
          "output_type": "execute_result",
          "data": {
            "text/plain": [
              "<seaborn.axisgrid.FacetGrid at 0x7f0ef2dc7f98>"
            ]
          },
          "metadata": {
            "tags": []
          },
          "execution_count": 60
        },
        {
          "output_type": "display_data",
          "data": {
            "image/png": "[encoded data removed]",
            "text/plain": [
              "<Figure size 402.375x360 with 1 Axes>"
            ]
          },
          "metadata": {
            "tags": [],
            "needs_background": "light"
          }
        }
      ]
    },
    {
      "cell_type": "code",
      "metadata": {
        "id": "elFtxiB3VYAp",
        "outputId": "b2d5949d-a899-48ab-fa47-04f66235ace2",
        "colab": {
          "base_uri": "https://localhost:8080/",
          "height": 386
        }
      },
      "source": [
        "sns.displot(data_lean, x=\"IsActiveMember\", hue=\"Exited\")"
      ],
      "execution_count": 61,
      "outputs": [
        {
          "output_type": "execute_result",
          "data": {
            "text/plain": [
              "<seaborn.axisgrid.FacetGrid at 0x7f0ef2df02e8>"
            ]
          },
          "metadata": {
            "tags": []
          },
          "execution_count": 61
        },
        {
          "output_type": "display_data",
          "data": {
            "image/png": "[encoded data removed]",
            "text/plain": [
              "<Figure size 402.375x360 with 1 Axes>"
            ]
          },
          "metadata": {
            "tags": [],
            "needs_background": "light"
          }
        }
      ]
    },
    {
      "cell_type": "code",
      "metadata": {
        "id": "581JLgTKVayY",
        "outputId": "d7837401-d252-4d10-90ce-27c3012e5a47",
        "colab": {
          "base_uri": "https://localhost:8080/",
          "height": 386
        }
      },
      "source": [
        "sns.displot(data_lean, x=\"Balance\", hue=\"Exited\")"
      ],
      "execution_count": 62,
      "outputs": [
        {
          "output_type": "execute_result",
          "data": {
            "text/plain": [
              "<seaborn.axisgrid.FacetGrid at 0x7f0ef2dbdeb8>"
            ]
          },
          "metadata": {
            "tags": []
          },
          "execution_count": 62
        },
        {
          "output_type": "display_data",
          "data": {
            "image/png": "[encoded data removed]",
            "text/plain": [
              "<Figure size 402.375x360 with 1 Axes>"
            ]
          },
          "metadata": {
            "tags": [],
            "needs_background": "light"
          }
        }
      ]
    },
    {
      "cell_type": "code",
      "metadata": {
        "id": "2rcRFcUFVjYb",
        "outputId": "356ce83a-63af-41e4-f838-99fa169f4c02",
        "colab": {
          "base_uri": "https://localhost:8080/",
          "height": 386
        }
      },
      "source": [
        "sns.displot(data_lean, x=\"NumOfProducts\", hue=\"Exited\")"
      ],
      "execution_count": 63,
      "outputs": [
        {
          "output_type": "execute_result",
          "data": {
            "text/plain": [
              "<seaborn.axisgrid.FacetGrid at 0x7f0ef2c00978>"
            ]
          },
          "metadata": {
            "tags": []
          },
          "execution_count": 63
        },
        {
          "output_type": "display_data",
          "data": {
            "image/png": "[encoded data removed]",
            "text/plain": [
              "<Figure size 402.375x360 with 1 Axes>"
            ]
          },
          "metadata": {
            "tags": [],
            "needs_background": "light"
          }
        }
      ]
    },
    {
      "cell_type": "code",
      "metadata": {
        "id": "04MOsepnVy_O",
        "outputId": "4ca28baa-22b9-4932-d693-271e3024013f",
        "colab": {
          "base_uri": "https://localhost:8080/",
          "height": 386
        }
      },
      "source": [
        "sns.displot(data_lean, x=\"Age\", hue=\"Exited\")"
      ],
      "execution_count": 64,
      "outputs": [
        {
          "output_type": "execute_result",
          "data": {
            "text/plain": [
              "<seaborn.axisgrid.FacetGrid at 0x7f0ef2c96908>"
            ]
          },
          "metadata": {
            "tags": []
          },
          "execution_count": 64
        },
        {
          "output_type": "display_data",
          "data": {
            "image/png": "[encoded data removed]",
            "text/plain": [
              "<Figure size 402.375x360 with 1 Axes>"
            ]
          },
          "metadata": {
            "tags": [],
            "needs_background": "light"
          }
        }
      ]
    },
    {
      "cell_type": "code",
      "metadata": {
        "id": "UjDacr_FWKXI",
        "outputId": "223893b7-1926-4b52-c049-8a3a5eb545db",
        "colab": {
          "base_uri": "https://localhost:8080/",
          "height": 386
        }
      },
      "source": [
        "sns.displot(data_lean, x=\"Age\")"
      ],
      "execution_count": 65,
      "outputs": [
        {
          "output_type": "execute_result",
          "data": {
            "text/plain": [
              "<seaborn.axisgrid.FacetGrid at 0x7f0f333adb38>"
            ]
          },
          "metadata": {
            "tags": []
          },
          "execution_count": 65
        },
        {
          "output_type": "display_data",
          "data": {
            "image/png": "[encoded data removed]",
            "text/plain": [
              "<Figure size 360x360 with 1 Axes>"
            ]
          },
          "metadata": {
            "tags": [],
            "needs_background": "light"
          }
        }
      ]
    },
    {
      "cell_type": "markdown",
      "metadata": {
        "id": "LmYYJpotX0Gh"
      },
      "source": [
        "## TODO"
      ]
    },
    {
      "cell_type": "markdown",
      "metadata": {
        "id": "JvOU0OcTYEFY"
      },
      "source": [
        "### 4. Distinguish the feature and target set and divide the data set into training and test sets"
      ]
    },
    {
      "cell_type": "code",
      "metadata": {
        "id": "LG3INGKCXfdL",
        "outputId": "d8deaab9-13d9-4a1b-b646-4d05c6c3e300",
        "colab": {
          "base_uri": "https://localhost:8080/",
          "height": 419
        }
      },
      "source": [
        "#Create a copy of data\r\n",
        "data_encoded = data_lean.copy()\r\n",
        "# One hot encode Geography and Gender columns\r\n",
        "data_encoded = pd.get_dummies(data_encoded, prefix='Geo', columns=['Geography'], drop_first=True)\r\n",
        "data_encoded = pd.get_dummies(data_encoded, prefix='Gender', columns=['Gender'], drop_first=True)\r\n",
        "data_encoded"
      ],
      "execution_count": 66,
      "outputs": [
        {
          "output_type": "execute_result",
          "data": {
            "text/html": [
              "<div>\n",
              "<style scoped>\n",
              "    .dataframe tbody tr th:only-of-type {\n",
              "        vertical-align: middle;\n",
              "    }\n",
              "\n",
              "    .dataframe tbody tr th {\n",
              "        vertical-align: top;\n",
              "    }\n",
              "\n",
              "    .dataframe thead th {\n",
              "        text-align: right;\n",
              "    }\n",
              "</style>\n",
              "<table border=\"1\" class=\"dataframe\">\n",
              "  <thead>\n",
              "    <tr style=\"text-align: right;\">\n",
              "      <th></th>\n",
              "      <th>CreditScore</th>\n",
              "      <th>Age</th>\n",
              "      <th>Tenure</th>\n",
              "      <th>Balance</th>\n",
              "      <th>NumOfProducts</th>\n",
              "      <th>HasCrCard</th>\n",
              "      <th>IsActiveMember</th>\n",
              "      <th>EstimatedSalary</th>\n",
              "      <th>Exited</th>\n",
              "      <th>Geo_Germany</th>\n",
              "      <th>Geo_Spain</th>\n",
              "      <th>Gender_Male</th>\n",
              "    </tr>\n",
              "  </thead>\n",
              "  <tbody>\n",
              "    <tr>\n",
              "      <th>0</th>\n",
              "      <td>619</td>\n",
              "      <td>42</td>\n",
              "      <td>2</td>\n",
              "      <td>0.00</td>\n",
              "      <td>1</td>\n",
              "      <td>1</td>\n",
              "      <td>1</td>\n",
              "      <td>101348.88</td>\n",
              "      <td>1</td>\n",
              "      <td>0</td>\n",
              "      <td>0</td>\n",
              "      <td>0</td>\n",
              "    </tr>\n",
              "    <tr>\n",
              "      <th>1</th>\n",
              "      <td>608</td>\n",
              "      <td>41</td>\n",
              "      <td>1</td>\n",
              "      <td>83807.86</td>\n",
              "      <td>1</td>\n",
              "      <td>0</td>\n",
              "      <td>1</td>\n",
              "      <td>112542.58</td>\n",
              "      <td>0</td>\n",
              "      <td>0</td>\n",
              "      <td>1</td>\n",
              "      <td>0</td>\n",
              "    </tr>\n",
              "    <tr>\n",
              "      <th>2</th>\n",
              "      <td>502</td>\n",
              "      <td>42</td>\n",
              "      <td>8</td>\n",
              "      <td>159660.80</td>\n",
              "      <td>3</td>\n",
              "      <td>1</td>\n",
              "      <td>0</td>\n",
              "      <td>113931.57</td>\n",
              "      <td>1</td>\n",
              "      <td>0</td>\n",
              "      <td>0</td>\n",
              "      <td>0</td>\n",
              "    </tr>\n",
              "    <tr>\n",
              "      <th>3</th>\n",
              "      <td>699</td>\n",
              "      <td>39</td>\n",
              "      <td>1</td>\n",
              "      <td>0.00</td>\n",
              "      <td>2</td>\n",
              "      <td>0</td>\n",
              "      <td>0</td>\n",
              "      <td>93826.63</td>\n",
              "      <td>0</td>\n",
              "      <td>0</td>\n",
              "      <td>0</td>\n",
              "      <td>0</td>\n",
              "    </tr>\n",
              "    <tr>\n",
              "      <th>4</th>\n",
              "      <td>850</td>\n",
              "      <td>43</td>\n",
              "      <td>2</td>\n",
              "      <td>125510.82</td>\n",
              "      <td>1</td>\n",
              "      <td>1</td>\n",
              "      <td>1</td>\n",
              "      <td>79084.10</td>\n",
              "      <td>0</td>\n",
              "      <td>0</td>\n",
              "      <td>1</td>\n",
              "      <td>0</td>\n",
              "    </tr>\n",
              "    <tr>\n",
              "      <th>...</th>\n",
              "      <td>...</td>\n",
              "      <td>...</td>\n",
              "      <td>...</td>\n",
              "      <td>...</td>\n",
              "      <td>...</td>\n",
              "      <td>...</td>\n",
              "      <td>...</td>\n",
              "      <td>...</td>\n",
              "      <td>...</td>\n",
              "      <td>...</td>\n",
              "      <td>...</td>\n",
              "      <td>...</td>\n",
              "    </tr>\n",
              "    <tr>\n",
              "      <th>9995</th>\n",
              "      <td>771</td>\n",
              "      <td>39</td>\n",
              "      <td>5</td>\n",
              "      <td>0.00</td>\n",
              "      <td>2</td>\n",
              "      <td>1</td>\n",
              "      <td>0</td>\n",
              "      <td>96270.64</td>\n",
              "      <td>0</td>\n",
              "      <td>0</td>\n",
              "      <td>0</td>\n",
              "      <td>1</td>\n",
              "    </tr>\n",
              "    <tr>\n",
              "      <th>9996</th>\n",
              "      <td>516</td>\n",
              "      <td>35</td>\n",
              "      <td>10</td>\n",
              "      <td>57369.61</td>\n",
              "      <td>1</td>\n",
              "      <td>1</td>\n",
              "      <td>1</td>\n",
              "      <td>101699.77</td>\n",
              "      <td>0</td>\n",
              "      <td>0</td>\n",
              "      <td>0</td>\n",
              "      <td>1</td>\n",
              "    </tr>\n",
              "    <tr>\n",
              "      <th>9997</th>\n",
              "      <td>709</td>\n",
              "      <td>36</td>\n",
              "      <td>7</td>\n",
              "      <td>0.00</td>\n",
              "      <td>1</td>\n",
              "      <td>0</td>\n",
              "      <td>1</td>\n",
              "      <td>42085.58</td>\n",
              "      <td>1</td>\n",
              "      <td>0</td>\n",
              "      <td>0</td>\n",
              "      <td>0</td>\n",
              "    </tr>\n",
              "    <tr>\n",
              "      <th>9998</th>\n",
              "      <td>772</td>\n",
              "      <td>42</td>\n",
              "      <td>3</td>\n",
              "      <td>75075.31</td>\n",
              "      <td>2</td>\n",
              "      <td>1</td>\n",
              "      <td>0</td>\n",
              "      <td>92888.52</td>\n",
              "      <td>1</td>\n",
              "      <td>1</td>\n",
              "      <td>0</td>\n",
              "      <td>1</td>\n",
              "    </tr>\n",
              "    <tr>\n",
              "      <th>9999</th>\n",
              "      <td>792</td>\n",
              "      <td>28</td>\n",
              "      <td>4</td>\n",
              "      <td>130142.79</td>\n",
              "      <td>1</td>\n",
              "      <td>1</td>\n",
              "      <td>0</td>\n",
              "      <td>38190.78</td>\n",
              "      <td>0</td>\n",
              "      <td>0</td>\n",
              "      <td>0</td>\n",
              "      <td>0</td>\n",
              "    </tr>\n",
              "  </tbody>\n",
              "</table>\n",
              "<p>10000 rows × 12 columns</p>\n",
              "</div>"
            ],
            "text/plain": [
              "      CreditScore  Age  Tenure  ...  Geo_Germany  Geo_Spain  Gender_Male\n",
              "0             619   42       2  ...            0          0            0\n",
              "1             608   41       1  ...            0          1            0\n",
              "2             502   42       8  ...            0          0            0\n",
              "3             699   39       1  ...            0          0            0\n",
              "4             850   43       2  ...            0          1            0\n",
              "...           ...  ...     ...  ...          ...        ...          ...\n",
              "9995          771   39       5  ...            0          0            1\n",
              "9996          516   35      10  ...            0          0            1\n",
              "9997          709   36       7  ...            0          0            0\n",
              "9998          772   42       3  ...            1          0            1\n",
              "9999          792   28       4  ...            0          0            0\n",
              "\n",
              "[10000 rows x 12 columns]"
            ]
          },
          "metadata": {
            "tags": []
          },
          "execution_count": 66
        }
      ]
    },
    {
      "cell_type": "code",
      "metadata": {
        "id": "UfCS2PIjZMMD"
      },
      "source": [
        "from sklearn.model_selection import train_test_split\r\n",
        "# Target variable is 'Exited'\r\n",
        "y = data_encoded['Exited']\r\n",
        "X = data_encoded.drop('Exited', axis = 1)\r\n",
        "#Split data into 70:30 ratio\r\n",
        "X_train, X_test, y_train, y_test = train_test_split(X, y, test_size=0.30, random_state = 7)"
      ],
      "execution_count": 67,
      "outputs": []
    },
    {
      "cell_type": "code",
      "metadata": {
        "id": "TB-FGEGkhPWG"
      },
      "source": [
        "# Convert Target train and test variable from series to array\r\n",
        "y_train =  np.array(y_train)\r\n",
        "y_test =  np.array(y_test)"
      ],
      "execution_count": 68,
      "outputs": []
    },
    {
      "cell_type": "markdown",
      "metadata": {
        "id": "6VT-vut4Z9jT"
      },
      "source": [
        "### 5. Normalize the train and test data"
      ]
    },
    {
      "cell_type": "code",
      "metadata": {
        "id": "nAttzAf5ZrYf"
      },
      "source": [
        "from sklearn.preprocessing import StandardScaler\r\n",
        "\r\n",
        "# Define the scaler \r\n",
        "scaler = StandardScaler().fit(X_train)\r\n",
        "# Scale the train set\r\n",
        "X_train = scaler.transform(X_train)\r\n",
        "# Scale the test set\r\n",
        "X_test = scaler.transform(X_test)"
      ],
      "execution_count": 69,
      "outputs": []
    },
    {
      "cell_type": "markdown",
      "metadata": {
        "id": "9Tdy4AHYb_vF"
      },
      "source": [
        "### 6. Initialize & build the model. Identify the points of improvement and implement the same"
      ]
    },
    {
      "cell_type": "code",
      "metadata": {
        "id": "zd2BoDG8aP_p"
      },
      "source": [
        "import warnings\r\n",
        "import tensorflow as tf\r\n",
        "from tensorflow.keras import Sequential\r\n",
        "from tensorflow.keras.layers import Dense"
      ],
      "execution_count": 70,
      "outputs": []
    },
    {
      "cell_type": "code",
      "metadata": {
        "id": "i2qcNhhUcj4y"
      },
      "source": [
        "ncols = X_train.shape[0]\r\n",
        "# Initialize the constructor\r\n",
        "model = Sequential()\r\n",
        "# Add an first hidden layer \r\n",
        "model.add(Dense(20, activation='softmax', kernel_initializer='normal'))\r\n",
        "# second hidden layer\r\n",
        "model.add(Dense(10, activation='softmax', kernel_initializer='normal'))\r\n",
        "# Add an output layer with one neuron \r\n",
        "model.add(Dense(1, activation = 'softmax'))"
      ],
      "execution_count": 71,
      "outputs": []
    },
    {
      "cell_type": "code",
      "metadata": {
        "id": "0G9JSp_adYdB"
      },
      "source": [
        "model.compile(optimizer='sgd', loss='categorical_crossentropy',  metrics = ['accuracy'])"
      ],
      "execution_count": 72,
      "outputs": []
    },
    {
      "cell_type": "code",
      "metadata": {
        "id": "ZJRNonmSdg4b",
        "outputId": "e493633c-f46a-43cd-cc6b-afbcea8dacd0",
        "colab": {
          "base_uri": "https://localhost:8080/"
        }
      },
      "source": [
        "model.fit(X_train,y_train,epochs=50,validation_data=(X_test,y_test),batch_size=X_train.shape[0])"
      ],
      "execution_count": 82,
      "outputs": [
        {
          "output_type": "stream",
          "text": [
            "Epoch 1/50\n",
            "1/1 [==============================] - 0s 280ms/step - loss: 0.3342 - accuracy: 0.8624 - val_loss: 0.3435 - val_accuracy: 0.8600\n",
            "Epoch 2/50\n",
            "1/1 [==============================] - 0s 48ms/step - loss: 0.3343 - accuracy: 0.8623 - val_loss: 0.3436 - val_accuracy: 0.8600\n",
            "Epoch 3/50\n",
            "1/1 [==============================] - 0s 41ms/step - loss: 0.3344 - accuracy: 0.8626 - val_loss: 0.3436 - val_accuracy: 0.8600\n",
            "Epoch 4/50\n",
            "1/1 [==============================] - 0s 41ms/step - loss: 0.3344 - accuracy: 0.8623 - val_loss: 0.3437 - val_accuracy: 0.8600\n",
            "Epoch 5/50\n",
            "1/1 [==============================] - 0s 41ms/step - loss: 0.3344 - accuracy: 0.8623 - val_loss: 0.3436 - val_accuracy: 0.8600\n",
            "Epoch 6/50\n",
            "1/1 [==============================] - 0s 45ms/step - loss: 0.3344 - accuracy: 0.8624 - val_loss: 0.3436 - val_accuracy: 0.8597\n",
            "Epoch 7/50\n",
            "1/1 [==============================] - 0s 44ms/step - loss: 0.3343 - accuracy: 0.8624 - val_loss: 0.3435 - val_accuracy: 0.8597\n",
            "Epoch 8/50\n",
            "1/1 [==============================] - 0s 42ms/step - loss: 0.3343 - accuracy: 0.8627 - val_loss: 0.3434 - val_accuracy: 0.8597\n",
            "Epoch 9/50\n",
            "1/1 [==============================] - 0s 42ms/step - loss: 0.3342 - accuracy: 0.8627 - val_loss: 0.3433 - val_accuracy: 0.8603\n",
            "Epoch 10/50\n",
            "1/1 [==============================] - 0s 44ms/step - loss: 0.3341 - accuracy: 0.8631 - val_loss: 0.3431 - val_accuracy: 0.8603\n",
            "Epoch 11/50\n",
            "1/1 [==============================] - 0s 42ms/step - loss: 0.3340 - accuracy: 0.8634 - val_loss: 0.3430 - val_accuracy: 0.8607\n",
            "Epoch 12/50\n",
            "1/1 [==============================] - 0s 41ms/step - loss: 0.3338 - accuracy: 0.8639 - val_loss: 0.3428 - val_accuracy: 0.8603\n",
            "Epoch 13/50\n",
            "1/1 [==============================] - 0s 45ms/step - loss: 0.3337 - accuracy: 0.8639 - val_loss: 0.3426 - val_accuracy: 0.8603\n",
            "Epoch 14/50\n",
            "1/1 [==============================] - 0s 48ms/step - loss: 0.3336 - accuracy: 0.8636 - val_loss: 0.3425 - val_accuracy: 0.8613\n",
            "Epoch 15/50\n",
            "1/1 [==============================] - 0s 41ms/step - loss: 0.3335 - accuracy: 0.8633 - val_loss: 0.3423 - val_accuracy: 0.8610\n",
            "Epoch 16/50\n",
            "1/1 [==============================] - 0s 40ms/step - loss: 0.3333 - accuracy: 0.8627 - val_loss: 0.3422 - val_accuracy: 0.8610\n",
            "Epoch 17/50\n",
            "1/1 [==============================] - 0s 44ms/step - loss: 0.3332 - accuracy: 0.8626 - val_loss: 0.3420 - val_accuracy: 0.8613\n",
            "Epoch 18/50\n",
            "1/1 [==============================] - 0s 42ms/step - loss: 0.3331 - accuracy: 0.8631 - val_loss: 0.3419 - val_accuracy: 0.8613\n",
            "Epoch 19/50\n",
            "1/1 [==============================] - 0s 40ms/step - loss: 0.3330 - accuracy: 0.8633 - val_loss: 0.3417 - val_accuracy: 0.8610\n",
            "Epoch 20/50\n",
            "1/1 [==============================] - 0s 42ms/step - loss: 0.3329 - accuracy: 0.8636 - val_loss: 0.3416 - val_accuracy: 0.8613\n",
            "Epoch 21/50\n",
            "1/1 [==============================] - 0s 46ms/step - loss: 0.3328 - accuracy: 0.8634 - val_loss: 0.3415 - val_accuracy: 0.8613\n",
            "Epoch 22/50\n",
            "1/1 [==============================] - 0s 47ms/step - loss: 0.3327 - accuracy: 0.8634 - val_loss: 0.3413 - val_accuracy: 0.8617\n",
            "Epoch 23/50\n",
            "1/1 [==============================] - 0s 42ms/step - loss: 0.3326 - accuracy: 0.8630 - val_loss: 0.3412 - val_accuracy: 0.8610\n",
            "Epoch 24/50\n",
            "1/1 [==============================] - 0s 41ms/step - loss: 0.3325 - accuracy: 0.8630 - val_loss: 0.3411 - val_accuracy: 0.8607\n",
            "Epoch 25/50\n",
            "1/1 [==============================] - 0s 40ms/step - loss: 0.3324 - accuracy: 0.8630 - val_loss: 0.3410 - val_accuracy: 0.8610\n",
            "Epoch 26/50\n",
            "1/1 [==============================] - 0s 45ms/step - loss: 0.3324 - accuracy: 0.8630 - val_loss: 0.3410 - val_accuracy: 0.8610\n",
            "Epoch 27/50\n",
            "1/1 [==============================] - 0s 45ms/step - loss: 0.3323 - accuracy: 0.8629 - val_loss: 0.3409 - val_accuracy: 0.8610\n",
            "Epoch 28/50\n",
            "1/1 [==============================] - 0s 46ms/step - loss: 0.3323 - accuracy: 0.8626 - val_loss: 0.3408 - val_accuracy: 0.8620\n",
            "Epoch 29/50\n",
            "1/1 [==============================] - 0s 45ms/step - loss: 0.3322 - accuracy: 0.8624 - val_loss: 0.3408 - val_accuracy: 0.8627\n",
            "Epoch 30/50\n",
            "1/1 [==============================] - 0s 51ms/step - loss: 0.3322 - accuracy: 0.8621 - val_loss: 0.3407 - val_accuracy: 0.8620\n",
            "Epoch 31/50\n",
            "1/1 [==============================] - 0s 52ms/step - loss: 0.3322 - accuracy: 0.8623 - val_loss: 0.3407 - val_accuracy: 0.8617\n",
            "Epoch 32/50\n",
            "1/1 [==============================] - 0s 46ms/step - loss: 0.3322 - accuracy: 0.8626 - val_loss: 0.3406 - val_accuracy: 0.8620\n",
            "Epoch 33/50\n",
            "1/1 [==============================] - 0s 44ms/step - loss: 0.3321 - accuracy: 0.8627 - val_loss: 0.3406 - val_accuracy: 0.8620\n",
            "Epoch 34/50\n",
            "1/1 [==============================] - 0s 41ms/step - loss: 0.3321 - accuracy: 0.8627 - val_loss: 0.3406 - val_accuracy: 0.8620\n",
            "Epoch 35/50\n",
            "1/1 [==============================] - 0s 47ms/step - loss: 0.3321 - accuracy: 0.8624 - val_loss: 0.3405 - val_accuracy: 0.8627\n",
            "Epoch 36/50\n",
            "1/1 [==============================] - 0s 55ms/step - loss: 0.3321 - accuracy: 0.8624 - val_loss: 0.3405 - val_accuracy: 0.8633\n",
            "Epoch 37/50\n",
            "1/1 [==============================] - 0s 44ms/step - loss: 0.3321 - accuracy: 0.8626 - val_loss: 0.3405 - val_accuracy: 0.8633\n",
            "Epoch 38/50\n",
            "1/1 [==============================] - 0s 43ms/step - loss: 0.3321 - accuracy: 0.8624 - val_loss: 0.3405 - val_accuracy: 0.8633\n",
            "Epoch 39/50\n",
            "1/1 [==============================] - 0s 48ms/step - loss: 0.3321 - accuracy: 0.8624 - val_loss: 0.3404 - val_accuracy: 0.8630\n",
            "Epoch 40/50\n",
            "1/1 [==============================] - 0s 46ms/step - loss: 0.3321 - accuracy: 0.8624 - val_loss: 0.3404 - val_accuracy: 0.8630\n",
            "Epoch 41/50\n",
            "1/1 [==============================] - 0s 42ms/step - loss: 0.3321 - accuracy: 0.8623 - val_loss: 0.3404 - val_accuracy: 0.8630\n",
            "Epoch 42/50\n",
            "1/1 [==============================] - 0s 42ms/step - loss: 0.3321 - accuracy: 0.8621 - val_loss: 0.3404 - val_accuracy: 0.8633\n",
            "Epoch 43/50\n",
            "1/1 [==============================] - 0s 53ms/step - loss: 0.3321 - accuracy: 0.8621 - val_loss: 0.3404 - val_accuracy: 0.8637\n",
            "Epoch 44/50\n",
            "1/1 [==============================] - 0s 48ms/step - loss: 0.3321 - accuracy: 0.8623 - val_loss: 0.3404 - val_accuracy: 0.8637\n",
            "Epoch 45/50\n",
            "1/1 [==============================] - 0s 44ms/step - loss: 0.3321 - accuracy: 0.8623 - val_loss: 0.3404 - val_accuracy: 0.8640\n",
            "Epoch 46/50\n",
            "1/1 [==============================] - 0s 49ms/step - loss: 0.3321 - accuracy: 0.8621 - val_loss: 0.3404 - val_accuracy: 0.8640\n",
            "Epoch 47/50\n",
            "1/1 [==============================] - 0s 48ms/step - loss: 0.3321 - accuracy: 0.8620 - val_loss: 0.3404 - val_accuracy: 0.8637\n",
            "Epoch 48/50\n",
            "1/1 [==============================] - 0s 49ms/step - loss: 0.3321 - accuracy: 0.8620 - val_loss: 0.3404 - val_accuracy: 0.8637\n",
            "Epoch 49/50\n",
            "1/1 [==============================] - 0s 47ms/step - loss: 0.3321 - accuracy: 0.8620 - val_loss: 0.3404 - val_accuracy: 0.8637\n",
            "Epoch 50/50\n",
            "1/1 [==============================] - 0s 44ms/step - loss: 0.3321 - accuracy: 0.8620 - val_loss: 0.3404 - val_accuracy: 0.8637\n"
          ],
          "name": "stdout"
        },
        {
          "output_type": "execute_result",
          "data": {
            "text/plain": [
              "<tensorflow.python.keras.callbacks.History at 0x7f0ef2a32b00>"
            ]
          },
          "metadata": {
            "tags": []
          },
          "execution_count": 82
        }
      ]
    },
    {
      "cell_type": "markdown",
      "metadata": {
        "id": "TppROK6QmUhb"
      },
      "source": [
        "#### Observation\r\n",
        "- The above model resulted in a bad accurary of around 20%\r\n",
        "- Lets try with higher epochs number"
      ]
    },
    {
      "cell_type": "code",
      "metadata": {
        "id": "nmyuW5mudlc_",
        "outputId": "0ab64c6c-fb68-43c9-9b0b-1d87c777581b",
        "colab": {
          "base_uri": "https://localhost:8080/"
        }
      },
      "source": [
        "ncols = X_train.shape[0]\r\n",
        "# Initialize the constructor\r\n",
        "model = Sequential()\r\n",
        "# Add an first hidden layer \r\n",
        "model.add(Dense(20, activation='softmax', kernel_initializer='normal'))\r\n",
        "# second hidden layer\r\n",
        "model.add(Dense(10, activation='softmax', kernel_initializer='normal'))\r\n",
        "# Add an output layer with one neuron \r\n",
        "model.add(Dense(1, activation = 'softmax'))\r\n",
        "model.compile(optimizer='adam', loss='binary_crossentropy',  metrics = ['accuracy'])\r\n",
        "model.fit(X_train,y_train,epochs=100,validation_data=(X_test,y_test),batch_size=32)"
      ],
      "execution_count": 74,
      "outputs": [
        {
          "output_type": "stream",
          "text": [
            "Epoch 1/100\n",
            "219/219 [==============================] - 1s 2ms/step - loss: 0.6381 - accuracy: 0.2096 - val_loss: 0.5599 - val_accuracy: 0.2017\n",
            "Epoch 2/100\n",
            "219/219 [==============================] - 0s 2ms/step - loss: 0.5514 - accuracy: 0.2090 - val_loss: 0.5167 - val_accuracy: 0.2017\n",
            "Epoch 3/100\n",
            "219/219 [==============================] - 0s 2ms/step - loss: 0.5188 - accuracy: 0.2093 - val_loss: 0.4986 - val_accuracy: 0.2017\n",
            "Epoch 4/100\n",
            "219/219 [==============================] - 0s 2ms/step - loss: 0.4990 - accuracy: 0.2048 - val_loss: 0.4826 - val_accuracy: 0.2017\n",
            "Epoch 5/100\n",
            "219/219 [==============================] - 0s 2ms/step - loss: 0.4808 - accuracy: 0.2043 - val_loss: 0.4649 - val_accuracy: 0.2017\n",
            "Epoch 6/100\n",
            "219/219 [==============================] - 0s 2ms/step - loss: 0.4691 - accuracy: 0.2089 - val_loss: 0.4481 - val_accuracy: 0.2017\n",
            "Epoch 7/100\n",
            "219/219 [==============================] - 0s 2ms/step - loss: 0.4426 - accuracy: 0.1996 - val_loss: 0.4339 - val_accuracy: 0.2017\n",
            "Epoch 8/100\n",
            "219/219 [==============================] - 0s 2ms/step - loss: 0.4314 - accuracy: 0.2009 - val_loss: 0.4229 - val_accuracy: 0.2017\n",
            "Epoch 9/100\n",
            "219/219 [==============================] - 0s 2ms/step - loss: 0.4292 - accuracy: 0.2093 - val_loss: 0.4146 - val_accuracy: 0.2017\n",
            "Epoch 10/100\n",
            "219/219 [==============================] - 0s 2ms/step - loss: 0.4137 - accuracy: 0.2000 - val_loss: 0.4071 - val_accuracy: 0.2017\n",
            "Epoch 11/100\n",
            "219/219 [==============================] - 0s 2ms/step - loss: 0.4080 - accuracy: 0.2052 - val_loss: 0.3989 - val_accuracy: 0.2017\n",
            "Epoch 12/100\n",
            "219/219 [==============================] - 0s 2ms/step - loss: 0.4026 - accuracy: 0.2015 - val_loss: 0.3916 - val_accuracy: 0.2017\n",
            "Epoch 13/100\n",
            "219/219 [==============================] - 0s 2ms/step - loss: 0.3932 - accuracy: 0.2064 - val_loss: 0.3851 - val_accuracy: 0.2017\n",
            "Epoch 14/100\n",
            "219/219 [==============================] - 0s 2ms/step - loss: 0.3805 - accuracy: 0.1987 - val_loss: 0.3793 - val_accuracy: 0.2017\n",
            "Epoch 15/100\n",
            "219/219 [==============================] - 0s 2ms/step - loss: 0.3844 - accuracy: 0.2064 - val_loss: 0.3739 - val_accuracy: 0.2017\n",
            "Epoch 16/100\n",
            "219/219 [==============================] - 0s 2ms/step - loss: 0.3769 - accuracy: 0.2057 - val_loss: 0.3691 - val_accuracy: 0.2017\n",
            "Epoch 17/100\n",
            "219/219 [==============================] - 0s 2ms/step - loss: 0.3739 - accuracy: 0.2025 - val_loss: 0.3649 - val_accuracy: 0.2017\n",
            "Epoch 18/100\n",
            "219/219 [==============================] - 0s 2ms/step - loss: 0.3702 - accuracy: 0.2132 - val_loss: 0.3614 - val_accuracy: 0.2017\n",
            "Epoch 19/100\n",
            "219/219 [==============================] - 0s 2ms/step - loss: 0.3553 - accuracy: 0.2008 - val_loss: 0.3588 - val_accuracy: 0.2017\n",
            "Epoch 20/100\n",
            "219/219 [==============================] - 0s 2ms/step - loss: 0.3576 - accuracy: 0.1984 - val_loss: 0.3566 - val_accuracy: 0.2017\n",
            "Epoch 21/100\n",
            "219/219 [==============================] - 0s 2ms/step - loss: 0.3628 - accuracy: 0.2138 - val_loss: 0.3540 - val_accuracy: 0.2017\n",
            "Epoch 22/100\n",
            "219/219 [==============================] - 1s 3ms/step - loss: 0.3610 - accuracy: 0.2052 - val_loss: 0.3524 - val_accuracy: 0.2017\n",
            "Epoch 23/100\n",
            "219/219 [==============================] - 0s 2ms/step - loss: 0.3492 - accuracy: 0.1997 - val_loss: 0.3513 - val_accuracy: 0.2017\n",
            "Epoch 24/100\n",
            "219/219 [==============================] - 0s 2ms/step - loss: 0.3563 - accuracy: 0.2052 - val_loss: 0.3503 - val_accuracy: 0.2017\n",
            "Epoch 25/100\n",
            "219/219 [==============================] - 0s 2ms/step - loss: 0.3545 - accuracy: 0.2072 - val_loss: 0.3490 - val_accuracy: 0.2017\n",
            "Epoch 26/100\n",
            "219/219 [==============================] - 0s 2ms/step - loss: 0.3477 - accuracy: 0.2083 - val_loss: 0.3480 - val_accuracy: 0.2017\n",
            "Epoch 27/100\n",
            "219/219 [==============================] - 0s 2ms/step - loss: 0.3418 - accuracy: 0.2075 - val_loss: 0.3474 - val_accuracy: 0.2017\n",
            "Epoch 28/100\n",
            "219/219 [==============================] - 0s 2ms/step - loss: 0.3435 - accuracy: 0.2024 - val_loss: 0.3469 - val_accuracy: 0.2017\n",
            "Epoch 29/100\n",
            "219/219 [==============================] - 0s 2ms/step - loss: 0.3416 - accuracy: 0.2009 - val_loss: 0.3455 - val_accuracy: 0.2017\n",
            "Epoch 30/100\n",
            "219/219 [==============================] - 0s 2ms/step - loss: 0.3466 - accuracy: 0.1993 - val_loss: 0.3452 - val_accuracy: 0.2017\n",
            "Epoch 31/100\n",
            "219/219 [==============================] - 0s 2ms/step - loss: 0.3462 - accuracy: 0.2064 - val_loss: 0.3446 - val_accuracy: 0.2017\n",
            "Epoch 32/100\n",
            "219/219 [==============================] - 0s 2ms/step - loss: 0.3470 - accuracy: 0.2040 - val_loss: 0.3442 - val_accuracy: 0.2017\n",
            "Epoch 33/100\n",
            "219/219 [==============================] - 1s 2ms/step - loss: 0.3459 - accuracy: 0.2019 - val_loss: 0.3435 - val_accuracy: 0.2017\n",
            "Epoch 34/100\n",
            "219/219 [==============================] - 0s 2ms/step - loss: 0.3471 - accuracy: 0.2057 - val_loss: 0.3432 - val_accuracy: 0.2017\n",
            "Epoch 35/100\n",
            "219/219 [==============================] - 0s 2ms/step - loss: 0.3286 - accuracy: 0.1983 - val_loss: 0.3429 - val_accuracy: 0.2017\n",
            "Epoch 36/100\n",
            "219/219 [==============================] - 0s 2ms/step - loss: 0.3375 - accuracy: 0.2024 - val_loss: 0.3426 - val_accuracy: 0.2017\n",
            "Epoch 37/100\n",
            "219/219 [==============================] - 0s 2ms/step - loss: 0.3245 - accuracy: 0.1997 - val_loss: 0.3416 - val_accuracy: 0.2017\n",
            "Epoch 38/100\n",
            "219/219 [==============================] - 0s 2ms/step - loss: 0.3366 - accuracy: 0.1987 - val_loss: 0.3414 - val_accuracy: 0.2017\n",
            "Epoch 39/100\n",
            "219/219 [==============================] - 0s 2ms/step - loss: 0.3373 - accuracy: 0.2029 - val_loss: 0.3409 - val_accuracy: 0.2017\n",
            "Epoch 40/100\n",
            "219/219 [==============================] - 0s 2ms/step - loss: 0.3382 - accuracy: 0.2073 - val_loss: 0.3409 - val_accuracy: 0.2017\n",
            "Epoch 41/100\n",
            "219/219 [==============================] - 0s 2ms/step - loss: 0.3385 - accuracy: 0.2072 - val_loss: 0.3414 - val_accuracy: 0.2017\n",
            "Epoch 42/100\n",
            "219/219 [==============================] - 0s 2ms/step - loss: 0.3384 - accuracy: 0.2063 - val_loss: 0.3408 - val_accuracy: 0.2017\n",
            "Epoch 43/100\n",
            "219/219 [==============================] - 0s 2ms/step - loss: 0.3407 - accuracy: 0.2129 - val_loss: 0.3408 - val_accuracy: 0.2017\n",
            "Epoch 44/100\n",
            "219/219 [==============================] - 0s 2ms/step - loss: 0.3398 - accuracy: 0.2058 - val_loss: 0.3408 - val_accuracy: 0.2017\n",
            "Epoch 45/100\n",
            "219/219 [==============================] - 0s 2ms/step - loss: 0.3366 - accuracy: 0.2038 - val_loss: 0.3405 - val_accuracy: 0.2017\n",
            "Epoch 46/100\n",
            "219/219 [==============================] - 0s 2ms/step - loss: 0.3372 - accuracy: 0.1999 - val_loss: 0.3405 - val_accuracy: 0.2017\n",
            "Epoch 47/100\n",
            "219/219 [==============================] - 0s 2ms/step - loss: 0.3404 - accuracy: 0.2110 - val_loss: 0.3404 - val_accuracy: 0.2017\n",
            "Epoch 48/100\n",
            "219/219 [==============================] - 0s 2ms/step - loss: 0.3394 - accuracy: 0.2100 - val_loss: 0.3404 - val_accuracy: 0.2017\n",
            "Epoch 49/100\n",
            "219/219 [==============================] - 0s 2ms/step - loss: 0.3313 - accuracy: 0.2011 - val_loss: 0.3405 - val_accuracy: 0.2017\n",
            "Epoch 50/100\n",
            "219/219 [==============================] - 0s 2ms/step - loss: 0.3441 - accuracy: 0.2054 - val_loss: 0.3406 - val_accuracy: 0.2017\n",
            "Epoch 51/100\n",
            "219/219 [==============================] - 0s 2ms/step - loss: 0.3311 - accuracy: 0.2082 - val_loss: 0.3403 - val_accuracy: 0.2017\n",
            "Epoch 52/100\n",
            "219/219 [==============================] - 0s 2ms/step - loss: 0.3358 - accuracy: 0.2061 - val_loss: 0.3405 - val_accuracy: 0.2017\n",
            "Epoch 53/100\n",
            "219/219 [==============================] - 0s 2ms/step - loss: 0.3234 - accuracy: 0.2046 - val_loss: 0.3406 - val_accuracy: 0.2017\n",
            "Epoch 54/100\n",
            "219/219 [==============================] - 0s 2ms/step - loss: 0.3266 - accuracy: 0.2036 - val_loss: 0.3408 - val_accuracy: 0.2017\n",
            "Epoch 55/100\n",
            "219/219 [==============================] - 0s 2ms/step - loss: 0.3302 - accuracy: 0.2092 - val_loss: 0.3405 - val_accuracy: 0.2017\n",
            "Epoch 56/100\n",
            "219/219 [==============================] - 0s 2ms/step - loss: 0.3265 - accuracy: 0.2043 - val_loss: 0.3405 - val_accuracy: 0.2017\n",
            "Epoch 57/100\n",
            "219/219 [==============================] - 0s 2ms/step - loss: 0.3259 - accuracy: 0.2055 - val_loss: 0.3408 - val_accuracy: 0.2017\n",
            "Epoch 58/100\n",
            "219/219 [==============================] - 0s 2ms/step - loss: 0.3233 - accuracy: 0.2014 - val_loss: 0.3414 - val_accuracy: 0.2017\n",
            "Epoch 59/100\n",
            "219/219 [==============================] - 0s 2ms/step - loss: 0.3416 - accuracy: 0.2076 - val_loss: 0.3410 - val_accuracy: 0.2017\n",
            "Epoch 60/100\n",
            "219/219 [==============================] - 0s 2ms/step - loss: 0.3226 - accuracy: 0.2081 - val_loss: 0.3409 - val_accuracy: 0.2017\n",
            "Epoch 61/100\n",
            "219/219 [==============================] - 0s 2ms/step - loss: 0.3299 - accuracy: 0.2012 - val_loss: 0.3409 - val_accuracy: 0.2017\n",
            "Epoch 62/100\n",
            "219/219 [==============================] - 0s 2ms/step - loss: 0.3254 - accuracy: 0.2002 - val_loss: 0.3414 - val_accuracy: 0.2017\n",
            "Epoch 63/100\n",
            "219/219 [==============================] - 0s 2ms/step - loss: 0.3226 - accuracy: 0.1970 - val_loss: 0.3421 - val_accuracy: 0.2017\n",
            "Epoch 64/100\n",
            "219/219 [==============================] - 0s 2ms/step - loss: 0.3229 - accuracy: 0.1929 - val_loss: 0.3415 - val_accuracy: 0.2017\n",
            "Epoch 65/100\n",
            "219/219 [==============================] - 0s 2ms/step - loss: 0.3357 - accuracy: 0.2130 - val_loss: 0.3410 - val_accuracy: 0.2017\n",
            "Epoch 66/100\n",
            "219/219 [==============================] - 0s 2ms/step - loss: 0.3213 - accuracy: 0.2059 - val_loss: 0.3412 - val_accuracy: 0.2017\n",
            "Epoch 67/100\n",
            "219/219 [==============================] - 0s 2ms/step - loss: 0.3282 - accuracy: 0.2050 - val_loss: 0.3412 - val_accuracy: 0.2017\n",
            "Epoch 68/100\n",
            "219/219 [==============================] - 0s 2ms/step - loss: 0.3147 - accuracy: 0.1947 - val_loss: 0.3414 - val_accuracy: 0.2017\n",
            "Epoch 69/100\n",
            "219/219 [==============================] - 0s 2ms/step - loss: 0.3094 - accuracy: 0.1912 - val_loss: 0.3419 - val_accuracy: 0.2017\n",
            "Epoch 70/100\n",
            "219/219 [==============================] - 0s 2ms/step - loss: 0.3192 - accuracy: 0.2028 - val_loss: 0.3416 - val_accuracy: 0.2017\n",
            "Epoch 71/100\n",
            "219/219 [==============================] - 0s 2ms/step - loss: 0.3388 - accuracy: 0.2039 - val_loss: 0.3412 - val_accuracy: 0.2017\n",
            "Epoch 72/100\n",
            "219/219 [==============================] - 0s 2ms/step - loss: 0.3279 - accuracy: 0.2099 - val_loss: 0.3410 - val_accuracy: 0.2017\n",
            "Epoch 73/100\n",
            "219/219 [==============================] - 0s 2ms/step - loss: 0.3301 - accuracy: 0.2063 - val_loss: 0.3412 - val_accuracy: 0.2017\n",
            "Epoch 74/100\n",
            "219/219 [==============================] - 0s 2ms/step - loss: 0.3404 - accuracy: 0.2064 - val_loss: 0.3415 - val_accuracy: 0.2017\n",
            "Epoch 75/100\n",
            "219/219 [==============================] - 0s 2ms/step - loss: 0.3167 - accuracy: 0.2003 - val_loss: 0.3414 - val_accuracy: 0.2017\n",
            "Epoch 76/100\n",
            "219/219 [==============================] - 0s 2ms/step - loss: 0.3194 - accuracy: 0.2029 - val_loss: 0.3410 - val_accuracy: 0.2017\n",
            "Epoch 77/100\n",
            "219/219 [==============================] - 0s 2ms/step - loss: 0.3314 - accuracy: 0.2100 - val_loss: 0.3409 - val_accuracy: 0.2017\n",
            "Epoch 78/100\n",
            "219/219 [==============================] - 0s 2ms/step - loss: 0.3302 - accuracy: 0.2083 - val_loss: 0.3409 - val_accuracy: 0.2017\n",
            "Epoch 79/100\n",
            "219/219 [==============================] - 0s 2ms/step - loss: 0.3313 - accuracy: 0.2049 - val_loss: 0.3412 - val_accuracy: 0.2017\n",
            "Epoch 80/100\n",
            "219/219 [==============================] - 0s 2ms/step - loss: 0.3284 - accuracy: 0.2058 - val_loss: 0.3410 - val_accuracy: 0.2017\n",
            "Epoch 81/100\n",
            "219/219 [==============================] - 0s 2ms/step - loss: 0.3303 - accuracy: 0.2076 - val_loss: 0.3407 - val_accuracy: 0.2017\n",
            "Epoch 82/100\n",
            "219/219 [==============================] - 0s 2ms/step - loss: 0.3251 - accuracy: 0.2092 - val_loss: 0.3406 - val_accuracy: 0.2017\n",
            "Epoch 83/100\n",
            "219/219 [==============================] - 0s 2ms/step - loss: 0.3338 - accuracy: 0.2137 - val_loss: 0.3405 - val_accuracy: 0.2017\n",
            "Epoch 84/100\n",
            "219/219 [==============================] - 0s 2ms/step - loss: 0.3411 - accuracy: 0.2090 - val_loss: 0.3407 - val_accuracy: 0.2017\n",
            "Epoch 85/100\n",
            "219/219 [==============================] - 0s 2ms/step - loss: 0.3235 - accuracy: 0.2014 - val_loss: 0.3403 - val_accuracy: 0.2017\n",
            "Epoch 86/100\n",
            "219/219 [==============================] - 0s 2ms/step - loss: 0.3231 - accuracy: 0.2045 - val_loss: 0.3408 - val_accuracy: 0.2017\n",
            "Epoch 87/100\n",
            "219/219 [==============================] - 0s 2ms/step - loss: 0.3266 - accuracy: 0.2047 - val_loss: 0.3412 - val_accuracy: 0.2017\n",
            "Epoch 88/100\n",
            "219/219 [==============================] - 0s 2ms/step - loss: 0.3234 - accuracy: 0.2117 - val_loss: 0.3407 - val_accuracy: 0.2017\n",
            "Epoch 89/100\n",
            "219/219 [==============================] - 0s 2ms/step - loss: 0.3123 - accuracy: 0.2117 - val_loss: 0.3405 - val_accuracy: 0.2017\n",
            "Epoch 90/100\n",
            "219/219 [==============================] - 0s 2ms/step - loss: 0.3113 - accuracy: 0.1920 - val_loss: 0.3407 - val_accuracy: 0.2017\n",
            "Epoch 91/100\n",
            "219/219 [==============================] - 0s 2ms/step - loss: 0.3216 - accuracy: 0.1996 - val_loss: 0.3410 - val_accuracy: 0.2017\n",
            "Epoch 92/100\n",
            "219/219 [==============================] - 0s 2ms/step - loss: 0.3273 - accuracy: 0.2023 - val_loss: 0.3407 - val_accuracy: 0.2017\n",
            "Epoch 93/100\n",
            "219/219 [==============================] - 0s 2ms/step - loss: 0.3231 - accuracy: 0.1992 - val_loss: 0.3403 - val_accuracy: 0.2017\n",
            "Epoch 94/100\n",
            "219/219 [==============================] - 0s 2ms/step - loss: 0.3163 - accuracy: 0.2098 - val_loss: 0.3402 - val_accuracy: 0.2017\n",
            "Epoch 95/100\n",
            "219/219 [==============================] - 0s 2ms/step - loss: 0.3133 - accuracy: 0.1967 - val_loss: 0.3408 - val_accuracy: 0.2017\n",
            "Epoch 96/100\n",
            "219/219 [==============================] - 0s 2ms/step - loss: 0.3199 - accuracy: 0.1964 - val_loss: 0.3402 - val_accuracy: 0.2017\n",
            "Epoch 97/100\n",
            "219/219 [==============================] - 0s 2ms/step - loss: 0.3282 - accuracy: 0.2063 - val_loss: 0.3406 - val_accuracy: 0.2017\n",
            "Epoch 98/100\n",
            "219/219 [==============================] - 0s 2ms/step - loss: 0.3249 - accuracy: 0.2103 - val_loss: 0.3404 - val_accuracy: 0.2017\n",
            "Epoch 99/100\n",
            "219/219 [==============================] - 0s 2ms/step - loss: 0.3270 - accuracy: 0.2093 - val_loss: 0.3402 - val_accuracy: 0.2017\n",
            "Epoch 100/100\n",
            "219/219 [==============================] - 0s 2ms/step - loss: 0.3201 - accuracy: 0.2048 - val_loss: 0.3406 - val_accuracy: 0.2017\n"
          ],
          "name": "stdout"
        },
        {
          "output_type": "execute_result",
          "data": {
            "text/plain": [
              "<tensorflow.python.keras.callbacks.History at 0x7f0ef293a5f8>"
            ]
          },
          "metadata": {
            "tags": []
          },
          "execution_count": 74
        }
      ]
    },
    {
      "cell_type": "markdown",
      "metadata": {
        "id": "QBtiUm0im-cH"
      },
      "source": [
        "#### Observation\r\n",
        "- The above model still resulted in a bad accurary of around 20%\r\n",
        "- Increasing the epochs number did not help\r\n",
        "- Lets try with different activation method"
      ]
    },
    {
      "cell_type": "code",
      "metadata": {
        "id": "PDJZ5-FfdvDJ",
        "outputId": "e09a9010-b2b5-4a31-fefe-e715beaf93cc",
        "colab": {
          "base_uri": "https://localhost:8080/"
        }
      },
      "source": [
        "ncols = X_train.shape[0]\r\n",
        "# Initialize the constructor\r\n",
        "model = Sequential()\r\n",
        "# Add an first hidden layer \r\n",
        "model.add(Dense(6, activation='relu'))\r\n",
        "# second hidden layer\r\n",
        "model.add(Dense(6, activation='relu'))\r\n",
        "# Add an output layer with one neuron \r\n",
        "model.add(Dense(1, activation = 'sigmoid'))\r\n",
        "model.compile(optimizer='adam', loss='binary_crossentropy',  metrics = ['accuracy'])\r\n",
        "model.fit(X_train,y_train, batch_size=32, epochs = 100, validation_data=(X_test,y_test))\r\n"
      ],
      "execution_count": 75,
      "outputs": [
        {
          "output_type": "stream",
          "text": [
            "Epoch 1/100\n",
            "219/219 [==============================] - 1s 2ms/step - loss: 0.6760 - accuracy: 0.5894 - val_loss: 0.4951 - val_accuracy: 0.7997\n",
            "Epoch 2/100\n",
            "219/219 [==============================] - 0s 1ms/step - loss: 0.4708 - accuracy: 0.7981 - val_loss: 0.4476 - val_accuracy: 0.8127\n",
            "Epoch 3/100\n",
            "219/219 [==============================] - 0s 1ms/step - loss: 0.4547 - accuracy: 0.8030 - val_loss: 0.4270 - val_accuracy: 0.8233\n",
            "Epoch 4/100\n",
            "219/219 [==============================] - 0s 1ms/step - loss: 0.4221 - accuracy: 0.8187 - val_loss: 0.4164 - val_accuracy: 0.8313\n",
            "Epoch 5/100\n",
            "219/219 [==============================] - 0s 2ms/step - loss: 0.4203 - accuracy: 0.8224 - val_loss: 0.4110 - val_accuracy: 0.8303\n",
            "Epoch 6/100\n",
            "219/219 [==============================] - 0s 1ms/step - loss: 0.4029 - accuracy: 0.8287 - val_loss: 0.4065 - val_accuracy: 0.8273\n",
            "Epoch 7/100\n",
            "219/219 [==============================] - 0s 1ms/step - loss: 0.4016 - accuracy: 0.8237 - val_loss: 0.4039 - val_accuracy: 0.8280\n",
            "Epoch 8/100\n",
            "219/219 [==============================] - 1s 2ms/step - loss: 0.4071 - accuracy: 0.8187 - val_loss: 0.4005 - val_accuracy: 0.8280\n",
            "Epoch 9/100\n",
            "219/219 [==============================] - 0s 2ms/step - loss: 0.4081 - accuracy: 0.8176 - val_loss: 0.3986 - val_accuracy: 0.8280\n",
            "Epoch 10/100\n",
            "219/219 [==============================] - 0s 1ms/step - loss: 0.4046 - accuracy: 0.8228 - val_loss: 0.3959 - val_accuracy: 0.8297\n",
            "Epoch 11/100\n",
            "219/219 [==============================] - 0s 1ms/step - loss: 0.3950 - accuracy: 0.8266 - val_loss: 0.3941 - val_accuracy: 0.8313\n",
            "Epoch 12/100\n",
            "219/219 [==============================] - 0s 1ms/step - loss: 0.3916 - accuracy: 0.8280 - val_loss: 0.3930 - val_accuracy: 0.8313\n",
            "Epoch 13/100\n",
            "219/219 [==============================] - 0s 2ms/step - loss: 0.3977 - accuracy: 0.8252 - val_loss: 0.3894 - val_accuracy: 0.8330\n",
            "Epoch 14/100\n",
            "219/219 [==============================] - 0s 2ms/step - loss: 0.3820 - accuracy: 0.8318 - val_loss: 0.3879 - val_accuracy: 0.8343\n",
            "Epoch 15/100\n",
            "219/219 [==============================] - 0s 1ms/step - loss: 0.3824 - accuracy: 0.8290 - val_loss: 0.3869 - val_accuracy: 0.8350\n",
            "Epoch 16/100\n",
            "219/219 [==============================] - 0s 2ms/step - loss: 0.3823 - accuracy: 0.8322 - val_loss: 0.3838 - val_accuracy: 0.8337\n",
            "Epoch 17/100\n",
            "219/219 [==============================] - 0s 2ms/step - loss: 0.3910 - accuracy: 0.8252 - val_loss: 0.3817 - val_accuracy: 0.8357\n",
            "Epoch 18/100\n",
            "219/219 [==============================] - 0s 2ms/step - loss: 0.3838 - accuracy: 0.8229 - val_loss: 0.3800 - val_accuracy: 0.8370\n",
            "Epoch 19/100\n",
            "219/219 [==============================] - 0s 1ms/step - loss: 0.3786 - accuracy: 0.8240 - val_loss: 0.3791 - val_accuracy: 0.8360\n",
            "Epoch 20/100\n",
            "219/219 [==============================] - 0s 2ms/step - loss: 0.3705 - accuracy: 0.8363 - val_loss: 0.3786 - val_accuracy: 0.8397\n",
            "Epoch 21/100\n",
            "219/219 [==============================] - 0s 2ms/step - loss: 0.3782 - accuracy: 0.8298 - val_loss: 0.3767 - val_accuracy: 0.8353\n",
            "Epoch 22/100\n",
            "219/219 [==============================] - 0s 2ms/step - loss: 0.3782 - accuracy: 0.8300 - val_loss: 0.3770 - val_accuracy: 0.8430\n",
            "Epoch 23/100\n",
            "219/219 [==============================] - 0s 2ms/step - loss: 0.3745 - accuracy: 0.8400 - val_loss: 0.3749 - val_accuracy: 0.8433\n",
            "Epoch 24/100\n",
            "219/219 [==============================] - 0s 1ms/step - loss: 0.3588 - accuracy: 0.8461 - val_loss: 0.3739 - val_accuracy: 0.8457\n",
            "Epoch 25/100\n",
            "219/219 [==============================] - 0s 2ms/step - loss: 0.3753 - accuracy: 0.8402 - val_loss: 0.3722 - val_accuracy: 0.8483\n",
            "Epoch 26/100\n",
            "219/219 [==============================] - 0s 2ms/step - loss: 0.3699 - accuracy: 0.8457 - val_loss: 0.3710 - val_accuracy: 0.8483\n",
            "Epoch 27/100\n",
            "219/219 [==============================] - 0s 1ms/step - loss: 0.3630 - accuracy: 0.8532 - val_loss: 0.3710 - val_accuracy: 0.8460\n",
            "Epoch 28/100\n",
            "219/219 [==============================] - 0s 1ms/step - loss: 0.3743 - accuracy: 0.8408 - val_loss: 0.3690 - val_accuracy: 0.8477\n",
            "Epoch 29/100\n",
            "219/219 [==============================] - 0s 2ms/step - loss: 0.3665 - accuracy: 0.8512 - val_loss: 0.3687 - val_accuracy: 0.8493\n",
            "Epoch 30/100\n",
            "219/219 [==============================] - 0s 1ms/step - loss: 0.3664 - accuracy: 0.8470 - val_loss: 0.3669 - val_accuracy: 0.8517\n",
            "Epoch 31/100\n",
            "219/219 [==============================] - 0s 1ms/step - loss: 0.3612 - accuracy: 0.8525 - val_loss: 0.3668 - val_accuracy: 0.8503\n",
            "Epoch 32/100\n",
            "219/219 [==============================] - 0s 2ms/step - loss: 0.3477 - accuracy: 0.8551 - val_loss: 0.3663 - val_accuracy: 0.8500\n",
            "Epoch 33/100\n",
            "219/219 [==============================] - 0s 2ms/step - loss: 0.3654 - accuracy: 0.8467 - val_loss: 0.3636 - val_accuracy: 0.8527\n",
            "Epoch 34/100\n",
            "219/219 [==============================] - 0s 2ms/step - loss: 0.3458 - accuracy: 0.8584 - val_loss: 0.3608 - val_accuracy: 0.8520\n",
            "Epoch 35/100\n",
            "219/219 [==============================] - 0s 2ms/step - loss: 0.3622 - accuracy: 0.8497 - val_loss: 0.3587 - val_accuracy: 0.8550\n",
            "Epoch 36/100\n",
            "219/219 [==============================] - 0s 2ms/step - loss: 0.3535 - accuracy: 0.8553 - val_loss: 0.3584 - val_accuracy: 0.8523\n",
            "Epoch 37/100\n",
            "219/219 [==============================] - 0s 2ms/step - loss: 0.3499 - accuracy: 0.8553 - val_loss: 0.3577 - val_accuracy: 0.8520\n",
            "Epoch 38/100\n",
            "219/219 [==============================] - 0s 2ms/step - loss: 0.3526 - accuracy: 0.8563 - val_loss: 0.3549 - val_accuracy: 0.8553\n",
            "Epoch 39/100\n",
            "219/219 [==============================] - 0s 2ms/step - loss: 0.3492 - accuracy: 0.8546 - val_loss: 0.3556 - val_accuracy: 0.8557\n",
            "Epoch 40/100\n",
            "219/219 [==============================] - 0s 2ms/step - loss: 0.3535 - accuracy: 0.8597 - val_loss: 0.3546 - val_accuracy: 0.8560\n",
            "Epoch 41/100\n",
            "219/219 [==============================] - 0s 2ms/step - loss: 0.3502 - accuracy: 0.8549 - val_loss: 0.3526 - val_accuracy: 0.8537\n",
            "Epoch 42/100\n",
            "219/219 [==============================] - 0s 2ms/step - loss: 0.3347 - accuracy: 0.8660 - val_loss: 0.3519 - val_accuracy: 0.8560\n",
            "Epoch 43/100\n",
            "219/219 [==============================] - 0s 2ms/step - loss: 0.3541 - accuracy: 0.8574 - val_loss: 0.3519 - val_accuracy: 0.8593\n",
            "Epoch 44/100\n",
            "219/219 [==============================] - 0s 2ms/step - loss: 0.3461 - accuracy: 0.8582 - val_loss: 0.3517 - val_accuracy: 0.8577\n",
            "Epoch 45/100\n",
            "219/219 [==============================] - 0s 2ms/step - loss: 0.3462 - accuracy: 0.8627 - val_loss: 0.3510 - val_accuracy: 0.8567\n",
            "Epoch 46/100\n",
            "219/219 [==============================] - 0s 2ms/step - loss: 0.3443 - accuracy: 0.8581 - val_loss: 0.3511 - val_accuracy: 0.8553\n",
            "Epoch 47/100\n",
            "219/219 [==============================] - 0s 2ms/step - loss: 0.3231 - accuracy: 0.8683 - val_loss: 0.3514 - val_accuracy: 0.8593\n",
            "Epoch 48/100\n",
            "219/219 [==============================] - 0s 2ms/step - loss: 0.3313 - accuracy: 0.8665 - val_loss: 0.3489 - val_accuracy: 0.8590\n",
            "Epoch 49/100\n",
            "219/219 [==============================] - 0s 2ms/step - loss: 0.3446 - accuracy: 0.8582 - val_loss: 0.3490 - val_accuracy: 0.8587\n",
            "Epoch 50/100\n",
            "219/219 [==============================] - 0s 2ms/step - loss: 0.3390 - accuracy: 0.8561 - val_loss: 0.3492 - val_accuracy: 0.8613\n",
            "Epoch 51/100\n",
            "219/219 [==============================] - 0s 2ms/step - loss: 0.3356 - accuracy: 0.8609 - val_loss: 0.3483 - val_accuracy: 0.8593\n",
            "Epoch 52/100\n",
            "219/219 [==============================] - 0s 2ms/step - loss: 0.3472 - accuracy: 0.8574 - val_loss: 0.3480 - val_accuracy: 0.8570\n",
            "Epoch 53/100\n",
            "219/219 [==============================] - 0s 1ms/step - loss: 0.3318 - accuracy: 0.8633 - val_loss: 0.3481 - val_accuracy: 0.8593\n",
            "Epoch 54/100\n",
            "219/219 [==============================] - 0s 2ms/step - loss: 0.3325 - accuracy: 0.8621 - val_loss: 0.3491 - val_accuracy: 0.8580\n",
            "Epoch 55/100\n",
            "219/219 [==============================] - 0s 2ms/step - loss: 0.3317 - accuracy: 0.8647 - val_loss: 0.3490 - val_accuracy: 0.8583\n",
            "Epoch 56/100\n",
            "219/219 [==============================] - 0s 2ms/step - loss: 0.3375 - accuracy: 0.8599 - val_loss: 0.3461 - val_accuracy: 0.8590\n",
            "Epoch 57/100\n",
            "219/219 [==============================] - 0s 2ms/step - loss: 0.3428 - accuracy: 0.8584 - val_loss: 0.3478 - val_accuracy: 0.8587\n",
            "Epoch 58/100\n",
            "219/219 [==============================] - 0s 2ms/step - loss: 0.3452 - accuracy: 0.8582 - val_loss: 0.3474 - val_accuracy: 0.8590\n",
            "Epoch 59/100\n",
            "219/219 [==============================] - 0s 2ms/step - loss: 0.3295 - accuracy: 0.8657 - val_loss: 0.3468 - val_accuracy: 0.8593\n",
            "Epoch 60/100\n",
            "219/219 [==============================] - 0s 2ms/step - loss: 0.3370 - accuracy: 0.8668 - val_loss: 0.3463 - val_accuracy: 0.8603\n",
            "Epoch 61/100\n",
            "219/219 [==============================] - 0s 1ms/step - loss: 0.3336 - accuracy: 0.8625 - val_loss: 0.3475 - val_accuracy: 0.8560\n",
            "Epoch 62/100\n",
            "219/219 [==============================] - 0s 2ms/step - loss: 0.3412 - accuracy: 0.8608 - val_loss: 0.3460 - val_accuracy: 0.8583\n",
            "Epoch 63/100\n",
            "219/219 [==============================] - 0s 2ms/step - loss: 0.3437 - accuracy: 0.8568 - val_loss: 0.3464 - val_accuracy: 0.8623\n",
            "Epoch 64/100\n",
            "219/219 [==============================] - 0s 2ms/step - loss: 0.3392 - accuracy: 0.8608 - val_loss: 0.3461 - val_accuracy: 0.8587\n",
            "Epoch 65/100\n",
            "219/219 [==============================] - 0s 1ms/step - loss: 0.3380 - accuracy: 0.8661 - val_loss: 0.3465 - val_accuracy: 0.8587\n",
            "Epoch 66/100\n",
            "219/219 [==============================] - 0s 2ms/step - loss: 0.3359 - accuracy: 0.8651 - val_loss: 0.3469 - val_accuracy: 0.8603\n",
            "Epoch 67/100\n",
            "219/219 [==============================] - 0s 2ms/step - loss: 0.3380 - accuracy: 0.8602 - val_loss: 0.3451 - val_accuracy: 0.8597\n",
            "Epoch 68/100\n",
            "219/219 [==============================] - 0s 2ms/step - loss: 0.3388 - accuracy: 0.8603 - val_loss: 0.3454 - val_accuracy: 0.8610\n",
            "Epoch 69/100\n",
            "219/219 [==============================] - 0s 2ms/step - loss: 0.3524 - accuracy: 0.8535 - val_loss: 0.3438 - val_accuracy: 0.8630\n",
            "Epoch 70/100\n",
            "219/219 [==============================] - 0s 1ms/step - loss: 0.3433 - accuracy: 0.8581 - val_loss: 0.3445 - val_accuracy: 0.8593\n",
            "Epoch 71/100\n",
            "219/219 [==============================] - 0s 2ms/step - loss: 0.3310 - accuracy: 0.8653 - val_loss: 0.3442 - val_accuracy: 0.8613\n",
            "Epoch 72/100\n",
            "219/219 [==============================] - 0s 2ms/step - loss: 0.3347 - accuracy: 0.8638 - val_loss: 0.3443 - val_accuracy: 0.8600\n",
            "Epoch 73/100\n",
            "219/219 [==============================] - 0s 2ms/step - loss: 0.3298 - accuracy: 0.8635 - val_loss: 0.3452 - val_accuracy: 0.8597\n",
            "Epoch 74/100\n",
            "219/219 [==============================] - 0s 1ms/step - loss: 0.3343 - accuracy: 0.8623 - val_loss: 0.3432 - val_accuracy: 0.8630\n",
            "Epoch 75/100\n",
            "219/219 [==============================] - 0s 2ms/step - loss: 0.3272 - accuracy: 0.8636 - val_loss: 0.3439 - val_accuracy: 0.8587\n",
            "Epoch 76/100\n",
            "219/219 [==============================] - 0s 1ms/step - loss: 0.3390 - accuracy: 0.8623 - val_loss: 0.3445 - val_accuracy: 0.8607\n",
            "Epoch 77/100\n",
            "219/219 [==============================] - 0s 2ms/step - loss: 0.3240 - accuracy: 0.8651 - val_loss: 0.3444 - val_accuracy: 0.8623\n",
            "Epoch 78/100\n",
            "219/219 [==============================] - 0s 2ms/step - loss: 0.3449 - accuracy: 0.8588 - val_loss: 0.3442 - val_accuracy: 0.8590\n",
            "Epoch 79/100\n",
            "219/219 [==============================] - 0s 2ms/step - loss: 0.3390 - accuracy: 0.8572 - val_loss: 0.3426 - val_accuracy: 0.8633\n",
            "Epoch 80/100\n",
            "219/219 [==============================] - 0s 2ms/step - loss: 0.3363 - accuracy: 0.8603 - val_loss: 0.3433 - val_accuracy: 0.8627\n",
            "Epoch 81/100\n",
            "219/219 [==============================] - 0s 1ms/step - loss: 0.3372 - accuracy: 0.8570 - val_loss: 0.3427 - val_accuracy: 0.8613\n",
            "Epoch 82/100\n",
            "219/219 [==============================] - 0s 2ms/step - loss: 0.3384 - accuracy: 0.8569 - val_loss: 0.3431 - val_accuracy: 0.8587\n",
            "Epoch 83/100\n",
            "219/219 [==============================] - 0s 2ms/step - loss: 0.3428 - accuracy: 0.8525 - val_loss: 0.3441 - val_accuracy: 0.8607\n",
            "Epoch 84/100\n",
            "219/219 [==============================] - 0s 1ms/step - loss: 0.3269 - accuracy: 0.8668 - val_loss: 0.3425 - val_accuracy: 0.8600\n",
            "Epoch 85/100\n",
            "219/219 [==============================] - 0s 2ms/step - loss: 0.3193 - accuracy: 0.8727 - val_loss: 0.3436 - val_accuracy: 0.8600\n",
            "Epoch 86/100\n",
            "219/219 [==============================] - 0s 2ms/step - loss: 0.3350 - accuracy: 0.8636 - val_loss: 0.3439 - val_accuracy: 0.8613\n",
            "Epoch 87/100\n",
            "219/219 [==============================] - 0s 2ms/step - loss: 0.3295 - accuracy: 0.8643 - val_loss: 0.3431 - val_accuracy: 0.8607\n",
            "Epoch 88/100\n",
            "219/219 [==============================] - 0s 1ms/step - loss: 0.3436 - accuracy: 0.8573 - val_loss: 0.3417 - val_accuracy: 0.8630\n",
            "Epoch 89/100\n",
            "219/219 [==============================] - 0s 2ms/step - loss: 0.3244 - accuracy: 0.8657 - val_loss: 0.3417 - val_accuracy: 0.8617\n",
            "Epoch 90/100\n",
            "219/219 [==============================] - 0s 2ms/step - loss: 0.3512 - accuracy: 0.8510 - val_loss: 0.3415 - val_accuracy: 0.8613\n",
            "Epoch 91/100\n",
            "219/219 [==============================] - 0s 2ms/step - loss: 0.3391 - accuracy: 0.8621 - val_loss: 0.3410 - val_accuracy: 0.8603\n",
            "Epoch 92/100\n",
            "219/219 [==============================] - 0s 2ms/step - loss: 0.3216 - accuracy: 0.8732 - val_loss: 0.3424 - val_accuracy: 0.8647\n",
            "Epoch 93/100\n",
            "219/219 [==============================] - 0s 2ms/step - loss: 0.3196 - accuracy: 0.8709 - val_loss: 0.3428 - val_accuracy: 0.8620\n",
            "Epoch 94/100\n",
            "219/219 [==============================] - 0s 2ms/step - loss: 0.3388 - accuracy: 0.8588 - val_loss: 0.3415 - val_accuracy: 0.8613\n",
            "Epoch 95/100\n",
            "219/219 [==============================] - 0s 2ms/step - loss: 0.3296 - accuracy: 0.8638 - val_loss: 0.3410 - val_accuracy: 0.8630\n",
            "Epoch 96/100\n",
            "219/219 [==============================] - 0s 2ms/step - loss: 0.3302 - accuracy: 0.8647 - val_loss: 0.3432 - val_accuracy: 0.8593\n",
            "Epoch 97/100\n",
            "219/219 [==============================] - 0s 2ms/step - loss: 0.3371 - accuracy: 0.8602 - val_loss: 0.3409 - val_accuracy: 0.8633\n",
            "Epoch 98/100\n",
            "219/219 [==============================] - 0s 2ms/step - loss: 0.3372 - accuracy: 0.8624 - val_loss: 0.3405 - val_accuracy: 0.8640\n",
            "Epoch 99/100\n",
            "219/219 [==============================] - 1s 2ms/step - loss: 0.3231 - accuracy: 0.8686 - val_loss: 0.3411 - val_accuracy: 0.8597\n",
            "Epoch 100/100\n",
            "219/219 [==============================] - 0s 2ms/step - loss: 0.3328 - accuracy: 0.8651 - val_loss: 0.3434 - val_accuracy: 0.8600\n"
          ],
          "name": "stdout"
        },
        {
          "output_type": "execute_result",
          "data": {
            "text/plain": [
              "<tensorflow.python.keras.callbacks.History at 0x7f0eeedef2e8>"
            ]
          },
          "metadata": {
            "tags": []
          },
          "execution_count": 75
        }
      ]
    },
    {
      "cell_type": "markdown",
      "metadata": {
        "id": "2Q2cTKafmHlk"
      },
      "source": [
        "#### Observation\r\n",
        "- Relu and sigmoid activation methods worked well for this model"
      ]
    },
    {
      "cell_type": "markdown",
      "metadata": {
        "id": "qR0sG936gFYm"
      },
      "source": [
        "### 7. Predict the results using 0.5 as a threshold"
      ]
    },
    {
      "cell_type": "code",
      "metadata": {
        "id": "Fx1txT3Vd5jr",
        "outputId": "daedce7b-22f1-4341-ff5f-162054f867bb",
        "colab": {
          "base_uri": "https://localhost:8080/"
        }
      },
      "source": [
        "y_pred = model.predict(X_test)\r\n",
        "y_pred = (y_pred > 0.5)\r\n",
        "print('Predicting the results using 0.5 th')\r\n",
        "print(np.concatenate((y_pred.reshape(len(y_pred),1), y_test.reshape(len(y_test),1)),1))"
      ],
      "execution_count": 76,
      "outputs": [
        {
          "output_type": "stream",
          "text": [
            "Predicting the results using 0.5 th\n",
            "[[1 1]\n",
            " [0 0]\n",
            " [0 0]\n",
            " ...\n",
            " [0 0]\n",
            " [0 0]\n",
            " [0 0]]\n"
          ],
          "name": "stdout"
        }
      ]
    },
    {
      "cell_type": "markdown",
      "metadata": {
        "id": "CaoaZ_jnh1Y0"
      },
      "source": [
        "### 8. Print the Accuracy score and confusion matrix"
      ]
    },
    {
      "cell_type": "code",
      "metadata": {
        "id": "BvEJyurngSTB",
        "outputId": "dc77d950-2e16-4888-ebda-50bd82bb30e4",
        "colab": {
          "base_uri": "https://localhost:8080/"
        }
      },
      "source": [
        "from sklearn.metrics import confusion_matrix, accuracy_score\r\n",
        "cm = confusion_matrix(y_test, y_pred)\r\n",
        "print ('Confusion Matrix')\r\n",
        "print(cm)"
      ],
      "execution_count": 79,
      "outputs": [
        {
          "output_type": "stream",
          "text": [
            "Confusion Matrix\n",
            "[[2261  134]\n",
            " [ 286  319]]\n"
          ],
          "name": "stdout"
        }
      ]
    },
    {
      "cell_type": "code",
      "metadata": {
        "id": "Prj4vG_ggmJF",
        "outputId": "58250bec-cead-431f-eaac-d82ae3963fa4",
        "colab": {
          "base_uri": "https://localhost:8080/"
        }
      },
      "source": [
        "print('Accuracy Score =', accuracy_score(y_test, y_pred))\r\n"
      ],
      "execution_count": 81,
      "outputs": [
        {
          "output_type": "stream",
          "text": [
            "Accuracy Score = 0.86\n"
          ],
          "name": "stdout"
        }
      ]
    },
    {
      "cell_type": "code",
      "metadata": {
        "id": "gKY3-VlFiGGf"
      },
      "source": [
        ""
      ],
      "execution_count": null,
      "outputs": []
    }
  ]
}